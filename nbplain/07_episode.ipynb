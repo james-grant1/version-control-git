{
 "cells": [
  {
   "cell_type": "markdown",
   "metadata": {
    "slideshow": {
     "slide_type": "slide"
    }
   },
   "source": [
    "# Ignoring Things"
   ]
  },
  {
   "cell_type": "markdown",
   "metadata": {
    "slideshow": {
     "slide_type": "slide"
    }
   },
   "source": [
    "## Overview\n",
    "- **Teaching:** 5 min\n",
    "- **Exercises:** 0 min\n",
    "\n",
    "**Questions**\n",
    "- How can I tell Git to ignore files I don’t want to track?\n",
    "\n",
    "**Objectives**\n",
    "- Configure Git to ignore specific files.\n",
    "- Explain why ignoring files can be useful."
   ]
  },
  {
   "cell_type": "markdown",
   "metadata": {
    "slideshow": {
     "slide_type": "slide"
    }
   },
   "source": [
    "What if we have files that we do not want Git to track for us, like backup files created by our editor or intermediate files created during data analysis? Let’s create a few dummy files:\n",
    "```bash\n",
    "% mkdir results\n",
    "% touch a.dat b.dat c.dat results/a.out results/b.out\n",
    "```\n",
    "and see what Git says:\n",
    "```bash\n",
    "% git status\n",
    "```\n",
    "```brainfuck\n",
    "On branch master\n",
    "Untracked files:\n",
    "  (use \"git add <file>...\" to include in what will be committed)\n",
    "\n",
    "\ta.dat\n",
    "\tb.dat\n",
    "\tc.dat\n",
    "\tresults/\n",
    "nothing added to commit but untracked files present (use \"git add\" to track)\n",
    "```"
   ]
  },
  {
   "cell_type": "markdown",
   "metadata": {
    "slideshow": {
     "slide_type": "slide"
    }
   },
   "source": [
    "Putting these files under version control would be a waste of disk space. What’s worse, having them all listed could distract us from changes that actually matter, so let’s tell Git to ignore them.\n",
    "\n",
    "We do this by creating a file in the root directory of our project called .gitignore:\n",
    "```bash\n",
    "% nano .gitignore\n",
    "% cat .gitignore\n",
    "```\n",
    "```brainfuck\n",
    "*.dat\n",
    "results/\n",
    "```\n",
    "These patterns tell Git to ignore any file whose name ends in `.dat` and everything in the results directory. (If any of these files were already being tracked, Git would continue to track them.)"
   ]
  },
  {
   "cell_type": "markdown",
   "metadata": {
    "slideshow": {
     "slide_type": "slide"
    }
   },
   "source": [
    "Once we have created this file, the output of git status is much cleaner:\n",
    "```bash\n",
    "% git status\n",
    "```\n",
    "```brainfuck\n",
    "On branch master\n",
    "Untracked files:\n",
    "  (use \"git add <file>...\" to include in what will be committed)\n",
    "\n",
    "\t.gitignore\n",
    "nothing added to commit but untracked files present (use \"git add\" to track)\n",
    "```"
   ]
  },
  {
   "cell_type": "markdown",
   "metadata": {},
   "source": [
    "The only thing Git notices now is the newly-created `.gitignore` file. You might think we wouldn’t want to track it, but everyone we’re sharing our repository with will probably want to ignore the same things that we’re ignoring. Let’s add and commit `.gitignore`:\n",
    "```bash\n",
    "% git add .gitignore\n",
    "% git commit -m \"Add the ignore file\"\n",
    "% git status\n",
    "```\n",
    "```brainfuck\n",
    "# On branch master\n",
    "nothing to commit, working directory clean\n",
    "```"
   ]
  },
  {
   "cell_type": "markdown",
   "metadata": {
    "slideshow": {
     "slide_type": "slide"
    }
   },
   "source": [
    "As a bonus, using .gitignore helps us avoid accidentally adding to the repository files that we don’t want to track:\n",
    "```bash\n",
    "% git add a.dat\n",
    "```\n",
    "```brainfuck\n",
    "The following paths are ignored by one of your .gitignore files:\n",
    "a.dat\n",
    "Use -f if you really want to add them.\n",
    "```\n",
    "If we really want to override our ignore settings, we can use `git add -f` to force Git to add something. For example, `git add -f a.dat`. We can also always see the status of ignored files if we want:\n",
    "```bash\n",
    "% git status --ignored\n",
    "```\n",
    "```brainfuck\n",
    "On branch master\n",
    "Ignored files:\n",
    " (use \"git add -f <file>...\" to include in what will be committed)\n",
    "\n",
    "        a.dat\n",
    "        b.dat\n",
    "        c.dat\n",
    "        results/\n",
    "\n",
    "nothing to commit, working directory clean\n",
    "```"
   ]
  },
  {
   "cell_type": "markdown",
   "metadata": {
    "slideshow": {
     "slide_type": "slide"
    }
   },
   "source": [
    "## Exercise: Ignoring Nested Files\n",
    "Given a directory structure that looks like:\n",
    "\n",
    "results/data\n",
    "results/plots\n",
    "How would you ignore only results/plots and not results/data?"
   ]
  },
  {
   "cell_type": "markdown",
   "metadata": {
    "slideshow": {
     "slide_type": "slide"
    }
   },
   "source": [
    "## Solution: Ignoring Nested Files\n",
    "As with most programming issues, there are a few ways that you could solve this. If you only want to ignore the contents of `results/plots`, you can change your `.gitignore` to ignore only the `/plots/` subfolder by adding the following line to your `.gitignore`:\n",
    "\n",
    "`results/plots/`\n",
    "\n",
    "If, instead, you want to ignore everything in `/results/`, but wanted to track `results/data`, then you can add `results/` to your `.gitignore` and create an exception for the `results/data/` folder. The next challenge will cover this type of solution.\n",
    "\n",
    "Sometimes the `**` pattern comes in handy, too, which matches multiple directory levels. E.g. `**/results/plots/*` would make git ignore the `results/plots` directory in any directory."
   ]
  },
  {
   "cell_type": "markdown",
   "metadata": {
    "slideshow": {
     "slide_type": "slide"
    }
   },
   "source": [
    "## Exercise: Including Specific Files\n",
    "How would you ignore all `.data` files in your root directory except for `final.data`? Hint: Find out what `!` (the exclamation point operator) does."
   ]
  },
  {
   "cell_type": "markdown",
   "metadata": {
    "slideshow": {
     "slide_type": "slide"
    }
   },
   "source": [
    "## Solution: Including Specific Files\n",
    "You would add the following two lines to your .gitignore:\n",
    "```brainfuck\n",
    "*.data           # ignore all data files\n",
    "!final.data      # except final.data\n",
    "```\n",
    "The exclamation point operator will include a previously excluded entry."
   ]
  },
  {
   "cell_type": "markdown",
   "metadata": {
    "slideshow": {
     "slide_type": "slide"
    }
   },
   "source": [
    "## Exercise: Ignoring all data Files in a Directory\n",
    "Given a directory structure that looks like:\n",
    "```brainfuck\n",
    "results/data/position/gps/a.data\n",
    "results/data/position/gps/b.data\n",
    "results/data/position/gps/c.data\n",
    "results/data/position/gps/info.txt\n",
    "results/plots\n",
    "```\n",
    "What’s the shortest `.gitignore` rule you could write to ignore all `.data` files in `result/data/position/gps`? Do not ignore the `info.txt`."
   ]
  },
  {
   "cell_type": "markdown",
   "metadata": {
    "slideshow": {
     "slide_type": "slide"
    }
   },
   "source": [
    "## Solution: Ignoring all data Files in a Directory\n",
    "Appending \n",
    "```brainfuck\n",
    "results/data/position/gps/*.data\n",
    "```\n",
    "will match every file in `results/data/position/gps` that ends with `.data`. The file `results/data/position/gps/info.txt` will not be ignored."
   ]
  },
  {
   "cell_type": "markdown",
   "metadata": {
    "slideshow": {
     "slide_type": "slide"
    }
   },
   "source": [
    "## Exercise: Log Files\n",
    "You wrote a script that creates many intermediate log-files of the form `log_01`, `log_02`, `log_03`, etc. You want to keep them but you do not want to track them through git.\n",
    "\n",
    "Write one `.gitignore` entry that excludes files of the form `log_01`, `log_02`, etc.\n",
    "\n",
    "You find that the file `log_01` is very important after all, add it to the tracked files without changing the `.gitignore` again.\n",
    "\n",
    "Discuss with your neighbor what other types of files could reside in your directory that you do not want to track and thus would exclude via `.gitignore`."
   ]
  },
  {
   "cell_type": "markdown",
   "metadata": {
    "slideshow": {
     "slide_type": "slide"
    }
   },
   "source": [
    "## Solution: Log Files\n",
    "1. append either `log_*` or `log*` as a new entry in your `.gitignore`\n",
    "2. track `log_01` using `git add -f log_01`"
   ]
  },
  {
   "cell_type": "markdown",
   "metadata": {
    "slideshow": {
     "slide_type": "slide"
    }
   },
   "source": [
    "## Key Points\n",
    "- The .gitignore file tells Git what files to ignore."
   ]
  }
 ],
 "metadata": {
  "celltoolbar": "Slideshow",
  "kernelspec": {
   "display_name": "Python 3",
   "language": "python",
   "name": "python3"
  },
  "language_info": {
   "codemirror_mode": {
    "name": "ipython",
    "version": 3
   },
   "file_extension": ".py",
   "mimetype": "text/x-python",
   "name": "python",
   "nbconvert_exporter": "python",
   "pygments_lexer": "ipython3",
   "version": "3.6.4"
  }
 },
 "nbformat": 4,
 "nbformat_minor": 2
}
