{
 "cells": [
  {
   "cell_type": "markdown",
   "metadata": {
    "slideshow": {
     "slide_type": "slide"
    }
   },
   "source": [
    "# Conflicts"
   ]
  },
  {
   "cell_type": "markdown",
   "metadata": {
    "slideshow": {
     "slide_type": "slide"
    }
   },
   "source": [
    "## Overview\n",
    "- **Teaching:** 25 min\n",
    "- **Exercises:** 0 min\n",
    "\n",
    "**Questions**\n",
    "- What do I do when my changes conflict with someone else’s?\n",
    "\n",
    "**Objectives**\n",
    "- Explain what conflicts are and when they can occur.\n",
    "- Resolve conflicts resulting from a merge."
   ]
  },
  {
   "cell_type": "markdown",
   "metadata": {
    "slideshow": {
     "slide_type": "slide"
    }
   },
   "source": [
    "As soon as people can work in parallel, they’ll likely step on each other’s toes. This will even happen with a single person: if we are working on a piece of software on both our laptop and a server in the lab, we could make different changes to each copy. Version control helps us manage these conflicts by giving us tools to resolve overlapping changes.\n",
    "\n",
    "To see how we can resolve conflicts, we must first create one. The file `mars.txt` currently looks like this in both partners’ copies of our `planets` repository:\n",
    "```bash\n",
    "% cat mars.txt\n",
    "```\n",
    "```brainfuck\n",
    "Cold and dry, but everything is my favorite color\n",
    "The two moons may be a problem for Wolfman\n",
    "But the Mummy will appreciate the lack of humidity\n",
    "```"
   ]
  },
  {
   "cell_type": "markdown",
   "metadata": {
    "slideshow": {
     "slide_type": "slide"
    }
   },
   "source": [
    "Let’s add a line to one partner’s copy only:\n",
    "```bash\n",
    "% nano mars.txt\n",
    "% cat mars.txt\n",
    "```\n",
    "```brainfuck\n",
    "Cold and dry, but everything is my favorite color\n",
    "The two moons may be a problem for Wolfman\n",
    "But the Mummy will appreciate the lack of humidity\n",
    "This line added to Wolfman's copy\n",
    "```"
   ]
  },
  {
   "cell_type": "markdown",
   "metadata": {
    "slideshow": {
     "slide_type": "slide"
    }
   },
   "source": [
    "and then push the change to GitHub:\n",
    "```bash\n",
    "% git add mars.txt\n",
    "% git commit -m \"Add a line in our home copy\"\n",
    "```\n",
    "```brainfuck\n",
    "[master 5ae9631] Add a line in our home copy\n",
    " 1 file changed, 1 insertion(+)\n",
    "```\n",
    "```bash\n",
    "% git push origin master\n",
    "```\n",
    "```brainfuck\n",
    "Counting objects: 5, done.\n",
    "Delta compression using up to 4 threads.\n",
    "Compressing objects: 100% (3/3), done.\n",
    "Writing objects: 100% (3/3), 352 bytes, done.\n",
    "Total 3 (delta 1), reused 0 (delta 0)\n",
    "To https://github.com/vlad/planets\n",
    "   29aba7c..dabb4c8  master -> master\n",
    "```"
   ]
  },
  {
   "cell_type": "markdown",
   "metadata": {
    "slideshow": {
     "slide_type": "slide"
    }
   },
   "source": [
    "Now let’s have the other partner make a different change to their copy without updating from GitHub:\n",
    "```bash\n",
    "% nano mars.txt\n",
    "% cat mars.txt\n",
    "```\n",
    "```brainfuck\n",
    "Cold and dry, but everything is my favorite color\n",
    "The two moons may be a problem for Wolfman\n",
    "But the Mummy will appreciate the lack of humidity\n",
    "We added a different line in the other copy\n",
    "```"
   ]
  },
  {
   "cell_type": "markdown",
   "metadata": {
    "slideshow": {
     "slide_type": "slide"
    }
   },
   "source": [
    "We can commit the change locally:\n",
    "```bash\n",
    "% git add mars.txt\n",
    "% git commit -m \"Add a line in my copy\"\n",
    "```\n",
    "```brainfuck\n",
    "[master 07ebc69] Add a line in my copy\n",
    " 1 file changed, 1 insertion(+)\n",
    " ```"
   ]
  },
  {
   "cell_type": "markdown",
   "metadata": {
    "slideshow": {
     "slide_type": "slide"
    }
   },
   "source": [
    "but Git won’t let us push it to GitHub:\n",
    "```bash\n",
    "% git push origin master\n",
    "```\n",
    "```brainfuck\n",
    "To https://github.com/vlad/planets.git\n",
    " ! [rejected]        master -> master (non-fast-forward)\n",
    "error: failed to push some refs to 'https://github.com/vlad/planets.git'\n",
    "hint: Updates were rejected because the tip of your current branch is behind\n",
    "hint: its remote counterpart. Merge the remote changes (e.g. 'git pull')\n",
    "hint: before pushing again.\n",
    "hint: See the 'Note about fast-forwards' in 'git push --help' for details.\n",
    "```\n",
    "\n",
    "![Conflict!](../images/conflict.svg)"
   ]
  },
  {
   "cell_type": "markdown",
   "metadata": {
    "slideshow": {
     "slide_type": "slide"
    }
   },
   "source": [
    "Git detects that the changes made in one copy overlap with those made in the other and stops us from trampling on our previous work. What we have to do is pull the changes from GitHub, merge them into the copy we’re currently working in, and then push that. Let’s start by pulling:\n",
    "```bash\n",
    "% git pull origin master\n",
    "```\n",
    "```brainfuck\n",
    "remote: Counting objects: 5, done.\n",
    "remote: Compressing objects: 100% (2/2), done.\n",
    "remote: Total 3 (delta 1), reused 3 (delta 1)\n",
    "Unpacking objects: 100% (3/3), done.\n",
    "From https://github.com/vlad/planets\n",
    " * branch            master     -> FETCH_HEAD\n",
    "Auto-merging mars.txt\n",
    "CONFLICT (content): Merge conflict in mars.txt\n",
    "Automatic merge failed; fix conflicts and then commit the result.\n",
    "```"
   ]
  },
  {
   "cell_type": "markdown",
   "metadata": {
    "slideshow": {
     "slide_type": "slide"
    }
   },
   "source": [
    "`git pull` tells us there’s a conflict, and marks that conflict in the affected file:\n",
    "```bash\n",
    "% cat mars.txt\n",
    "```\n",
    "```brainfuck\n",
    "Cold and dry, but everything is my favorite color\n",
    "The two moons may be a problem for Wolfman\n",
    "But the Mummy will appreciate the lack of humidity\n",
    "<<<<<<< HEAD\n",
    "We added a different line in the other copy\n",
    "=======\n",
    "This line added to Wolfman's copy\n",
    ">>>>>>> dabb4c8c450e8475aee9b14b4383acc99f42af1d\n",
    "```"
   ]
  },
  {
   "cell_type": "markdown",
   "metadata": {
    "slideshow": {
     "slide_type": "slide"
    }
   },
   "source": [
    "Our change is preceded by `<<<<<<< HEAD`. Git has then inserted `=======` as a separator between the conflicting changes and marked the end of the content downloaded from GitHub with `>>>>>>>`. (The string of letters and digits after that marker identifies the commit we’ve just downloaded.)\n",
    "\n",
    "It is now up to us to edit this file to remove these markers and reconcile the changes. We can do anything we want: keep the change made in the local repository, keep the change made in the remote repository, write something new to replace both, or get rid of the change entirely. Let’s replace both so that the file looks like this:\n",
    "```bash\n",
    "% cat mars.txt\n",
    "```\n",
    "```brainfuck\n",
    "Cold and dry, but everything is my favorite color\n",
    "The two moons may be a problem for Wolfman\n",
    "But the Mummy will appreciate the lack of humidity\n",
    "We removed the conflict on this line\n",
    "```"
   ]
  },
  {
   "cell_type": "markdown",
   "metadata": {
    "slideshow": {
     "slide_type": "slide"
    }
   },
   "source": [
    "To finish merging, we add mars.txt to the changes being made by the merge and then commit:\n",
    "```bash\n",
    "% git add mars.txt\n",
    "% git status\n",
    "```\n",
    "```brainfuck\n",
    "On branch master\n",
    "All conflicts fixed but you are still merging.\n",
    "  (use \"git commit\" to conclude merge)\n",
    "\n",
    "Changes to be committed:\n",
    "\n",
    "\tmodified:   mars.txt\n",
    "```"
   ]
  },
  {
   "cell_type": "markdown",
   "metadata": {
    "slideshow": {
     "slide_type": "slide"
    }
   },
   "source": [
    "```bash\n",
    "% git commit -m \"Merge changes from GitHub\"\n",
    "```\n",
    "```brainfuck\n",
    "[master 2abf2b1] Merge changes from GitHub\n",
    "Now we can push our changes to GitHub:\n",
    "```\n",
    "\n",
    "```bash\n",
    "% git push origin master\n",
    "```\n",
    "```brainfuck\n",
    "Counting objects: 10, done.\n",
    "Delta compression using up to 4 threads.\n",
    "Compressing objects: 100% (6/6), done.\n",
    "Writing objects: 100% (6/6), 697 bytes, done.\n",
    "Total 6 (delta 2), reused 0 (delta 0)\n",
    "To https://github.com/vlad/planets.git\n",
    "   dabb4c8..2abf2b1  master -> master\n",
    "```"
   ]
  },
  {
   "cell_type": "markdown",
   "metadata": {
    "slideshow": {
     "slide_type": "slide"
    }
   },
   "source": [
    "Git keeps track of what we’ve merged with what, so we don’t have to fix things by hand again when the collaborator who made the first change pulls again:\n",
    "```bash\n",
    "% git pull origin master\n",
    "```\n",
    "```brainfuck\n",
    "remote: Counting objects: 10, done.\n",
    "remote: Compressing objects: 100% (4/4), done.\n",
    "remote: Total 6 (delta 2), reused 6 (delta 2)\n",
    "Unpacking objects: 100% (6/6), done.\n",
    "From https://github.com/vlad/planets\n",
    " * branch            master     -> FETCH_HEAD\n",
    "Updating dabb4c8..2abf2b1\n",
    "Fast-forward\n",
    " mars.txt | 2 +-\n",
    " 1 file changed, 1 insertion(+), 1 deletion(-)\n",
    " ```"
   ]
  },
  {
   "cell_type": "markdown",
   "metadata": {
    "slideshow": {
     "slide_type": "slide"
    }
   },
   "source": [
    "We get the merged file:\n",
    "```bash\n",
    "% cat mars.txt\n",
    "```\n",
    "```brainfuck\n",
    "Cold and dry, but everything is my favorite color\n",
    "The two moons may be a problem for Wolfman\n",
    "But the Mummy will appreciate the lack of humidity\n",
    "We removed the conflict on this line\n",
    "```\n",
    "We don’t need to merge again because Git knows someone has already done that."
   ]
  },
  {
   "cell_type": "markdown",
   "metadata": {},
   "source": [
    "We don’t need to merge again because Git knows someone has already done that.\n",
    "\n",
    "Git’s ability to resolve conflicts is very useful, but conflict resolution costs time and effort, and can introduce errors if conflicts are not resolved correctly. If you find yourself resolving a lot of conflicts in a project, consider these technical approaches to reducing them:\n",
    "\n",
    "- Pull from upstream more frequently, especially before starting new work\n",
    "- Use topic branches to segregate work, merging to master when complete\n",
    "- Make smaller more atomic commits\n",
    "- Where logically appropriate, break large files into smaller ones so that it is less likely that two authors will alter the same file simultaneously\n",
    "\n",
    "Conflicts can also be minimized with project management strategies:\n",
    "\n",
    "- Clarify who is responsible for what areas with your collaborators\n",
    "- Discuss what order tasks should be carried out in with your collaborators so that tasks expected to change the same lines won’t be worked on simultaneously\n",
    "- If the conflicts are stylistic churn (e.g. tabs vs. spaces), establish a project convention that is governing and use code style tools (e.g. `htmltidy`, `perltidy`, `rubocop`, etc.) to enforce, if necessary"
   ]
  },
  {
   "cell_type": "markdown",
   "metadata": {
    "slideshow": {
     "slide_type": "slide"
    }
   },
   "source": [
    "## Key Points\n",
    "- Conflicts occur when two or more people change the same file(s) at the same time.\n",
    "- The version control system does not allow people to overwrite each other’s changes blindly, but highlights conflicts so that they can be resolved."
   ]
  }
 ],
 "metadata": {
  "celltoolbar": "Slideshow",
  "kernelspec": {
   "display_name": "Python 3",
   "language": "python",
   "name": "python3"
  },
  "language_info": {
   "codemirror_mode": {
    "name": "ipython",
    "version": 3
   },
   "file_extension": ".py",
   "mimetype": "text/x-python",
   "name": "python",
   "nbconvert_exporter": "python",
   "pygments_lexer": "ipython3",
   "version": "3.6.4"
  }
 },
 "nbformat": 4,
 "nbformat_minor": 2
}
