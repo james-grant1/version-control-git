{
 "cells": [
  {
   "cell_type": "markdown",
   "metadata": {
    "slideshow": {
     "slide_type": "slide"
    }
   },
   "source": [
    "# Setting Up Git"
   ]
  },
  {
   "cell_type": "markdown",
   "metadata": {
    "slideshow": {
     "slide_type": "slide"
    }
   },
   "source": [
    "## Overview:\n",
    "- **Teaching:** 5 min\n",
    "- **Exercises:** 0 min\n",
    "\n",
    "**Questions**\n",
    "- How do I get set up to use Git?\n",
    "\n",
    "**Objectives**\n",
    "- Configure git the first time it is used on a computer.\n",
    "- Understand the meaning of the --global configuration flag."
   ]
  },
  {
   "cell_type": "markdown",
   "metadata": {
    "slideshow": {
     "slide_type": "subslide"
    }
   },
   "source": [
    "First you will need to launch a terminal, e.g. see setup.  For the purposes of this lesson, if you are running on notebooks.azure.com we will work in the library folder, so before doing anything else we need to change directory:\n",
    "\n",
    "```bash\n",
    "% cd library\n",
    "```\n",
    "\n",
    "If you using git on another platform then this is **not** necessary."
   ]
  },
  {
   "cell_type": "markdown",
   "metadata": {
    "slideshow": {
     "slide_type": "slide"
    }
   },
   "source": [
    "## Configure your git\n",
    "\n",
    "When we use Git on a new computer for the first time, we need to configure a few things. Below are a few examples of configurations we will set as we get started with Git:\n",
    "\n",
    "- our name and email address,\n",
    "- to colorize our output,\n",
    "- what our preferred text editor is,\n",
    "- and that we want to use these settings globally (i.e. for every project)\n",
    "\n",
    "On a command line, Git commands are written as git verb, where verb is what we actually want to do. So here is how Dracula sets up his new laptop:"
   ]
  },
  {
   "cell_type": "markdown",
   "metadata": {},
   "source": [
    "```bash\n",
    "% git config --global user.name \"Vlad Dracula\"\n",
    "% git config --global user.email \"vlad@tran.sylvan.ia\"\n",
    "% git config --global color.ui \"auto\"\n",
    "```"
   ]
  },
  {
   "cell_type": "markdown",
   "metadata": {},
   "source": [
    "Please use your own name and email address instead of Dracula’s. This user name and email will be associated with your subsequent Git activity, which means that any changes pushed to GitHub, BitBucket, GitLab or another Git host server in a later lesson will include this information."
   ]
  },
  {
   "cell_type": "markdown",
   "metadata": {
    "slideshow": {
     "slide_type": "slide"
    }
   },
   "source": [
    "## Information: Line Endings\n",
    "\n",
    "As with other keys, when you hit the ‘return’ key on your keyboard, your computer encodes this input. For reasons that are long to explain, different operating systems use different character(s) to represent the end of a line. (You may also hear these referred to as newlines or line breaks.) Because git uses these characters to compare files, it may cause unexpected issues when editing a file on different machines.\n",
    "\n",
    "You can change the way git recognizes and encodes line endings using the core.autocrlf command to git config. The following settings are recommended:\n",
    "\n",
    "On OS X and Linux:\n",
    "\n",
    "```bash\n",
    "% git config --global core.autocrlf input\n",
    "```\n",
    "\n",
    "And on Windows:\n",
    "\n",
    "```bash\n",
    "% git config --global core.autocrlf true\n",
    "```\n",
    "\n",
    "You can read more about this issue on this [GitHub page](https://help.github.com/articles/dealing-with-line-endings/)."
   ]
  },
  {
   "cell_type": "markdown",
   "metadata": {
    "slideshow": {
     "slide_type": "slide"
    }
   },
   "source": [
    "For these lessons, we will be interacting with [GitHub](https://github.com/) and so the email address used should be the same as the one used when setting up your GitHub account. If you are concerned about privacy, please review [GitHub’s instructions for keeping your email address private](https://help.github.com/articles/keeping-your-email-address-private/). If you elect to use a private email address with GitHub, then use that same email address for the `user.email` value, e.g. `username@users.noreply.github.com` replacing `username` with your GitHub one. You can change the email address later on by using the git config command again.\n",
    "\n",
    "Dracula also has to set his favorite text editor, following this table:"
   ]
  },
  {
   "cell_type": "markdown",
   "metadata": {
    "slideshow": {
     "slide_type": "slide"
    }
   },
   "source": [
    "\n",
    "| **Editor** | **Configuration command** |\n",
    "|---|---|\n",
    "| Atom | % git config --global core.editor \"atom --wait\" |\n",
    "| **nano** | **% git config --global core.editor \"nano -w\"** |\n",
    "| BBEdit (Mac, with command line tools) | % git config --global core.editor \"bbedit -w\" |\n",
    "| Sublime Text (Mac) | % git config --global core.editor \"subl -n -w\" |\n",
    "| Sublime Text (Win, 32-bit install) | % git config --global core.editor \"'c:/program files (x86)/sublime text 3/sublime_text.exe' -w\" |\n",
    "| Sublime Text (Win, 64-bit install) | % git config --global core.editor \"'c:/program files/sublime text 3/sublime_text.exe' -w\" |\n",
    "| Notepad++ (Win, 32-bit install) | % git config --global core.editor \"'c:/program files (x86)/Notepad++/notepad++.exe' -multiInst -notabbar -nosession -noPlugin\" |\n",
    "| Notepad++ (Win, 64-bit install) | % git config --global core.editor \"'c:/program files/Notepad++/notepad++.exe' -multiInst -notabbar -nosession -noPlugin\" |\n",
    "| Kate (Linux) | % git config --global core.editor \"kate\" |\n",
    "| Gedit (Linux) | % git config --global core.editor \"gedit --wait --new-window\" |\n",
    "| Scratch (Linux) | % git config --global core.editor \"scratch-text-editor\" |\n",
    "| emacs | % git config --global core.editor \"emacs\" |\n",
    "| vim | % git config --global core.editor \"vim\" |\n",
    "\n",
    "It is possible to reconfigure the text editor for Git whenever you want to change it."
   ]
  },
  {
   "cell_type": "markdown",
   "metadata": {
    "slideshow": {
     "slide_type": "slide"
    }
   },
   "source": [
    "The four commands we just ran above only need to be run once: the flag --global tells Git to use the settings for every project, in your user account, on this computer.\n",
    "\n",
    "You can check your settings at any time:"
   ]
  },
  {
   "cell_type": "code",
   "execution_count": 1,
   "metadata": {
    "slideshow": {
     "slide_type": "slide"
    }
   },
   "outputs": [
    {
     "name": "stdout",
     "output_type": "stream",
     "text": [
      "user.name=James Grant\n",
      "user.email=r.j.grant@bath.ac.uk\n",
      "merge.tool=kdiff3\n",
      "diff.guitool=kdiff3\n",
      "core.editor=nano -w\n",
      "core.autocrlf=true\n",
      "color.ui=auto\n"
     ]
    }
   ],
   "source": [
    "%%bash2 --dir ~\n",
    "git config --list"
   ]
  },
  {
   "cell_type": "markdown",
   "metadata": {
    "slideshow": {
     "slide_type": "slide"
    }
   },
   "source": [
    "## Information: Git Help and Manual\n",
    "\n",
    "Always remember that if you forget a `git` command, you can access the list of commands by using `-h` and access the Git manual by using `--help`:\n",
    "\n",
    "```bash\n",
    "% git config -h\n",
    "% git config --help\n",
    "```\n",
    "\n",
    "Additionally [online manual pages](https://git-scm.com) or [Stack Overflow](https://stackoverflow.com) are excellent resources."
   ]
  },
  {
   "cell_type": "markdown",
   "metadata": {
    "slideshow": {
     "slide_type": "slide"
    }
   },
   "source": [
    "## Key Points:\n",
    "- Use `git config` to configure a user name, email address, editor, and other preferences once per machine."
   ]
  }
 ],
 "metadata": {
  "celltoolbar": "Slideshow",
  "kernelspec": {
   "display_name": "Python 3",
   "language": "python",
   "name": "python3"
  },
  "language_info": {
   "codemirror_mode": {
    "name": "ipython",
    "version": 3
   },
   "file_extension": ".py",
   "mimetype": "text/x-python",
   "name": "python",
   "nbconvert_exporter": "python",
   "pygments_lexer": "ipython3",
   "version": "3.8.3"
  }
 },
 "nbformat": 4,
 "nbformat_minor": 2
}
