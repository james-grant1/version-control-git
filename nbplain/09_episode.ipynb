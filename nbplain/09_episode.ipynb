{
 "cells": [
  {
   "cell_type": "markdown",
   "metadata": {
    "slideshow": {
     "slide_type": "slide"
    }
   },
   "source": [
    "# Collaborating"
   ]
  },
  {
   "cell_type": "markdown",
   "metadata": {
    "slideshow": {
     "slide_type": "slide"
    }
   },
   "source": [
    "## Overview\n",
    "- **Teaching:** 25 min\n",
    "- **Exercises:** 0 min\n",
    "\n",
    "**Questions**\n",
    "- How can I use version control to collaborate with other people?\n",
    "\n",
    "**Objectives**\n",
    "- Clone a remote repository.\n",
    "- Collaborate pushing to a common repository."
   ]
  },
  {
   "cell_type": "markdown",
   "metadata": {
    "slideshow": {
     "slide_type": "slide"
    }
   },
   "source": [
    "For the next step, get into pairs. One person will be the “Owner” and the other will be the “Collaborator”. The goal is that the Collaborator add changes into the Owner’s repository. We will switch roles at the end, so both persons will play Owner and Collaborator."
   ]
  },
  {
   "cell_type": "markdown",
   "metadata": {
    "slideshow": {
     "slide_type": "slide"
    }
   },
   "source": [
    "## Pin: Practicing By Yourself\n",
    "If you’re working through this lesson on your own, you can carry on by opening a second terminal window. This window will represent your partner, working on another computer. You won’t need to give anyone access on GitHub, because both ‘partners’ are you."
   ]
  },
  {
   "cell_type": "markdown",
   "metadata": {
    "slideshow": {
     "slide_type": "slide"
    }
   },
   "source": [
    "The Owner needs to give the Collaborator access. On GitHub, click the settings button on the right, then select Collaborators, and enter your partner’s username.\n",
    "\n",
    "![Github add collaborators](../images/github-add-collaborators.png)\n",
    "\n",
    "To accept access to the Owner’s repo, the Collaborator needs to go to https://github.com/notifications. Once there she can accept access to the Owner’s repo."
   ]
  },
  {
   "cell_type": "markdown",
   "metadata": {
    "slideshow": {
     "slide_type": "slide"
    }
   },
   "source": [
    "Next, the Collaborator needs to download a copy of the Owner’s repository to her machine. This is called “cloning a repo”. To clone the Owner’s repo into her Desktop folder, the Collaborator enters:\n",
    "```bash\n",
    "% git clone https://github.com/vlad/planets.git ~/Desktop/vlad-planets\n",
    "```\n",
    "Replace ‘vlad’ with the Owner’s username.\n",
    "\n",
    "![Collaboration](../images/github-collaboration.svg)"
   ]
  },
  {
   "cell_type": "markdown",
   "metadata": {
    "slideshow": {
     "slide_type": "slide"
    }
   },
   "source": [
    "The Collaborator can now make a change in her clone of the Owner’s repository, exactly the same way as we’ve been doing before:\n",
    "```bash\n",
    "% cd ~/Desktop/vlad-planets\n",
    "% nano pluto.txt\n",
    "% cat pluto.txt\n",
    "```\n",
    "```brainfuck\n",
    "It is so a planet!\n",
    "```\n",
    "```bash\n",
    "% git add pluto.txt\n",
    "% git commit -m \"Add notes about Pluto\"\n",
    "```\n",
    "```brainfuck\n",
    "1 file changed, 1 insertion(+)\n",
    " create mode 100644 pluto.txt\n",
    "```"
   ]
  },
  {
   "cell_type": "markdown",
   "metadata": {
    "slideshow": {
     "slide_type": "slide"
    }
   },
   "source": [
    "Then push the change to the Owner’s repository on GitHub:\n",
    "```bash\n",
    "% git push origin master\n",
    "```\n",
    "```brainfuck\n",
    "Counting objects: 4, done.\n",
    "Delta compression using up to 4 threads.\n",
    "Compressing objects: 100% (2/2), done.\n",
    "Writing objects: 100% (3/3), 306 bytes, done.\n",
    "Total 3 (delta 0), reused 0 (delta 0)\n",
    "To https://github.com/vlad/planets.git\n",
    "   9272da5..29aba7c  master -> master\n",
    "```\n",
    "\n",
    "Note that we didn’t have to create a remote called `origin`: Git uses this name by default when we clone a repository. (This is why `origin` was a sensible choice earlier when we were setting up remotes by hand.)"
   ]
  },
  {
   "cell_type": "markdown",
   "metadata": {
    "slideshow": {
     "slide_type": "slide"
    }
   },
   "source": [
    "Take a look to the Owner’s repository on its GitHub website now (maybe you need to refresh your browser.) You should be able to see the new commit made by the Collaborator.\n",
    "\n",
    "To download the Collaborator’s changes from GitHub, the Owner now enters:\n",
    "```bash\n",
    "% git pull origin master\n",
    "```\n",
    "```brainfuck\n",
    "remote: Counting objects: 4, done.\n",
    "remote: Compressing objects: 100% (2/2), done.\n",
    "remote: Total 3 (delta 0), reused 3 (delta 0)\n",
    "Unpacking objects: 100% (3/3), done.\n",
    "From https://github.com/vlad/planets\n",
    " * branch            master     -> FETCH_HEAD\n",
    "Updating 9272da5..29aba7c\n",
    "Fast-forward\n",
    " pluto.txt | 1 +\n",
    " 1 file changed, 1 insertion(+)\n",
    " create mode 100644 pluto.txt\n",
    "```\n",
    "\n",
    "Now the three repositories (Owner’s local, Collaborator’s local, and Owner’s on GitHub) are back in sync."
   ]
  },
  {
   "cell_type": "markdown",
   "metadata": {
    "slideshow": {
     "slide_type": "slide"
    }
   },
   "source": [
    "## Pin: A Basic Collaborative Workflow\n",
    "In practice, it is good to be sure that you have an updated version of the repository you are collaborating on, so you should git pull before making our changes. The basic collaborative workflow would be:\n",
    "\n",
    "- update your local repo with `git pull origin master`,\n",
    "- make your changes and stage them with `git add`,\n",
    "- commit your changes with `git commit -m`, and\n",
    "- upload the changes to GitHub with `git push origin master`\n",
    "\n",
    "It is better to make many commits with smaller changes rather than of one commit with massive changes: small commits are easier to read and review."
   ]
  },
  {
   "cell_type": "markdown",
   "metadata": {
    "slideshow": {
     "slide_type": "slide"
    }
   },
   "source": [
    "## Pen: Switch Roles and Repeat\n",
    "Switch roles and repeat the whole process."
   ]
  },
  {
   "cell_type": "markdown",
   "metadata": {
    "slideshow": {
     "slide_type": "slide"
    }
   },
   "source": [
    "## Exercise: Review Changes\n",
    "The Owner pushed commits to the repository without giving any information to the Collaborator. How can the Collaborator find out what has changed with command line? And on GitHub?"
   ]
  },
  {
   "cell_type": "markdown",
   "metadata": {
    "slideshow": {
     "slide_type": "slide"
    }
   },
   "source": [
    "## Solution: Review Changes\n",
    "On the command line, the Collaborator can use `git fetch origin master` to get the remote changes into the local repository, but without merging them. Then by running `git diff master origin/master` the Collaborator will see the changes output in the terminal.\n",
    "\n",
    "On GitHub, the Collaborator can go to their own fork of the repository and look right above the light blue latest commit bar for a gray bar saying “This branch is 1 commit behind Our-Repository:master.” On the far right of that gray bar is a Compare icon and link. On the Compare page the Collaborator should change the base fork to their own repository, then click the link in the paragraph above to “compare across forks”, and finally change the head fork to the main repository. This will show all the commits that are different."
   ]
  },
  {
   "cell_type": "markdown",
   "metadata": {
    "slideshow": {
     "slide_type": "slide"
    }
   },
   "source": [
    "## Pen: Comment Changes in GitHub\n",
    "The Collaborator has some questions about one line change made by the Owner and has some suggestions to propose.\n",
    "\n",
    "With GitHub, it is possible to comment the diff of a commit. Over the line of code to comment, a blue comment icon appears to open a comment window.\n",
    "\n",
    "The Collaborator posts its comments and suggestions using GitHub interface."
   ]
  },
  {
   "cell_type": "markdown",
   "metadata": {
    "slideshow": {
     "slide_type": "slide"
    }
   },
   "source": [
    "## Pen: Version History, Backup, and Version Control\n",
    "Some backup software can keep a history of the versions of your files. They also allows you to recover specific versions. How is this functionality different from version control? What are some of the benefits of using version control, Git and GitHub?"
   ]
  },
  {
   "cell_type": "markdown",
   "metadata": {
    "slideshow": {
     "slide_type": "slide"
    }
   },
   "source": [
    "## Key Points\n",
    "- `git clone` copies a remote repository to create a local repository with a remote called origin automatically set up.\n",
    "- `git pull` updates your local copy of the repository with any changes to the remote.\n",
    "- `git fetch` fetches changes to the remote allowing you to compare them without merging"
   ]
  }
 ],
 "metadata": {
  "celltoolbar": "Slideshow",
  "kernelspec": {
   "display_name": "Python 3",
   "language": "python",
   "name": "python3"
  },
  "language_info": {
   "codemirror_mode": {
    "name": "ipython",
    "version": 3
   },
   "file_extension": ".py",
   "mimetype": "text/x-python",
   "name": "python",
   "nbconvert_exporter": "python",
   "pygments_lexer": "ipython3",
   "version": "3.6.4"
  }
 },
 "nbformat": 4,
 "nbformat_minor": 2
}
