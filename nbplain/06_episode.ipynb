{
 "cells": [
  {
   "cell_type": "markdown",
   "metadata": {
    "slideshow": {
     "slide_type": "slide"
    }
   },
   "source": [
    "# Changing History"
   ]
  },
  {
   "cell_type": "markdown",
   "metadata": {
    "slideshow": {
     "slide_type": "slide"
    }
   },
   "source": [
    "## Overview\n",
    "- **Teaching:** 20 min\n",
    "- **Exercises:** 0 min\n",
    "\n",
    "**Questions**\n",
    "- How should I change filenames in git\n",
    "- How do I remove files in Git\n",
    "- What does `checkout` do?\n",
    "- What are `revert` and `reset`?\n",
    "\n",
    "**Objectives**\n",
    "- Know how to rename and remove git tracked files.\n",
    "- Understand that `checkout` moves you around in the git history.\n",
    "- Know that `revert` and `reset` move and remove commits respectively, they change history around you.\n",
    "- Know how to undo staging of files."
   ]
  },
  {
   "cell_type": "markdown",
   "metadata": {
    "slideshow": {
     "slide_type": "slide"
    }
   },
   "source": [
    "## Changing a filename\n",
    "\n",
    "Let's say that we would like to create a duplicate of `mars.txt` e.g. so that so that Wolfman could record his own observation separately from Vlad.  Create a copy of mars.txt with:\n",
    "```bash\n",
    "% cp mars.txt mars2.txt\n",
    "% ls\n",
    "```\n",
    "```brainfuck\n",
    "mars.txt  mars2.txt\n",
    "```\n",
    "\n",
    "and add the file and commit it to the repository:\n",
    "```bash\n",
    "% git add mars2.txt\n",
    "% git commit -m \"Duplicated mars.txt for Wolfman's observations\"\n",
    "```\n",
    "```brainfuck\n",
    "[master 096d729] Duplicated mars.txt for Wolfman's observations\n",
    " 1 file changed, 3 insertions(+)\n",
    " create mode 100644 mars2.txt\n",
    "```"
   ]
  },
  {
   "cell_type": "markdown",
   "metadata": {
    "slideshow": {
     "slide_type": "slide"
    }
   },
   "source": [
    "Later we realise that this isn't the most informative filename so decide to change the filename to `mars_wolfman.txt\":\n",
    "```bash\n",
    "% mv mars2.txt mars_wolfman.txt\n",
    "```\n",
    "\n",
    "We can now check the status of the repository:\n",
    "```bash\n",
    "% git status\n",
    "```\n",
    "```brainfuck\n",
    "On branch master\n",
    "Changes not staged for commit:\n",
    "  (use \"git add/rm <file>...\" to update what will be committed)\n",
    "  (use \"git checkout -- <file>...\" to discard changes in working directory)\n",
    "\n",
    "        deleted:    mars2.txt\n",
    "\n",
    "Untracked files:\n",
    "  (use \"git add <file>...\" to include in what will be committed)\n",
    "\n",
    "        mars_wolfman.txt\n",
    "\n",
    "no changes added to commit (use \"git add\" and/or \"git commit -a\")\n",
    "```"
   ]
  },
  {
   "cell_type": "markdown",
   "metadata": {
    "slideshow": {
     "slide_type": "slide"
    }
   },
   "source": [
    "We could now add the new file and while this is in principle okay, in that it will result in the file changing name, it is inefficient for git to delete and create with the same content.  However there is another git like way.  First lets revert the filename:\n",
    "```bash\n",
    "% mv mars_wolfman.txt mars2.txt\n",
    "% git status\n",
    "```\n",
    "```brainfuck\n",
    "On branch master\n",
    "nothing to commit, working tree clean\n",
    "```\n",
    "\n",
    "Now we use the command:\n",
    "```bash\n",
    "% git mv mars2.txt mars_wolfman.txt\n",
    "% git status\n",
    "```\n",
    "```brainfuck\n",
    "On branch master\n",
    "Changes to be committed:\n",
    "  (use \"git reset HEAD <file>...\" to unstage)\n",
    "\n",
    "        renamed:    mars2.txt -> mars_wolfman\n",
    "```\n",
    "Note that these changes are staged we still have to commit the change, but we no longer have to `git add` the new filename.  Let's commit the change of filename:\n",
    "```bash\n",
    "% git commit -m \"Changed filename for Wolfmans observations\"\n",
    "```\n",
    "```brainfuck\n",
    "[master 2d64b0a] Changed filename for Wolfmans observations\n",
    " 1 file changed, 0 insertions(+), 0 deletions(-)\n",
    " rename mars2.txt => mars_wolfman.txt (100%)\n",
    "```"
   ]
  },
  {
   "cell_type": "markdown",
   "metadata": {
    "slideshow": {
     "slide_type": "slide"
    }
   },
   "source": [
    "Finally we learn that we will learn about how to deal with potential conflicts between commits in a future episode so decide to delete the new file.  Once again we could just remove the file with `rm` but suspect that as with changing filenames there might be a git way of removing files.  Indeed there is and we can remove the file from the repository with the command:\n",
    "```bash\n",
    "% git rm mars_wolfman.txt\n",
    "% git status\n",
    "```\n",
    "```brainfuck\n",
    "On branch master\n",
    "Changes to be committed:\n",
    "  (use \"git reset HEAD <file>...\" to unstage)\n",
    "\n",
    "        deleted:    mars_wolfman.txt\n",
    "```\n",
    "\n",
    "As always these changes are staged and we need to commit them to the repository:\n",
    "```bash\n",
    "% git commit -m \"Deleted unnecessary wolfman duplicate file\"\n",
    "```\n",
    "```brainfuck\n",
    "[master 67edf4e] Deleted unnecessary wolfman duplicate file\n",
    " 1 file changed, 3 deletions(-)\n",
    " delete mode 100644 mars_wolfman.txt\n",
    "```"
   ]
  },
  {
   "cell_type": "markdown",
   "metadata": {
    "slideshow": {
     "slide_type": "slide"
    }
   },
   "source": [
    "## Checkout, Revert and Reset"
   ]
  },
  {
   "cell_type": "markdown",
   "metadata": {
    "slideshow": {
     "slide_type": "slide"
    }
   },
   "source": [
    "In the previous episode we used the command `git checkout HEAD <file>`, to undo changes to a file that we wanted to discard.  Used in this was checkout switches to the version of the file in the specified commit.  We can also use checkout without specifying a filename, to move to a different position in the git history, as seen in the previous episode under \"Don’t Lose Your HEAD\".\n",
    "\n",
    "What happens if we want to undo some changes we have made in error but keep a record of them instead of moving around in the history.  Perhaps we don't believe our instructor that it is possible to deal with conflicts and we want to `revert` to the previous commit before `mars_wolfman.txt` was deleted.  We could try running `git checkout HEAD~1 mars_wolfman.txt` but if we had removed or changed several files then this would take a while and we might forget to checkout out one of the files. \n",
    "\n",
    "Fortunately git offers us a quick way to do this with the command, and check the review the git log for the last two commits:\n",
    "```bash\n",
    "% git revert HEAD # Note we want to revert the last commit\n",
    "% git log -2\n",
    "```\n",
    "```brainfuck\n",
    "commit f8e774dab9bc05cf72d92df90297d0dd352f2fcd (HEAD -> master)\n",
    "Author: James Grant <r.j.grant@bath.ac.uk>\n",
    "Date:   Fri Nov 9 14:56:34 2018 +0000\n",
    "\n",
    "    Revert \"Deleted unnecessary wolfman duplicate file\"\n",
    "\n",
    "    This reverts commit 67edf4e4268580162931e994d0e960ac11d44bcb.\n",
    "\n",
    "commit 67edf4e4268580162931e994d0e960ac11d44bcb\n",
    "Author: James Grant <r.j.grant@bath.ac.uk>\n",
    "Date:   Fri Nov 9 14:28:28 2018 +0000\n",
    "\n",
    "    Deleted unnecessary wolfman duplicate file\n",
    "```"
   ]
  },
  {
   "cell_type": "markdown",
   "metadata": {
    "slideshow": {
     "slide_type": "slide"
    }
   },
   "source": [
    "After speaking with your collaborator you decide to bare with your instructor for the rest of the workshop and want to undo the changes you've made to avoid embarassment.  This is of course unnecessary as we are all here learning together, but perhaps we want to tidy the repository a bit.  We can remove any record of what we've been doing with the reset command.\n",
    "\n",
    "First lets check theoneline version of the log:\n",
    "```bash\n",
    "% git log --oneline\n",
    "```\n",
    "```brainfuck\n",
    "f8e774d (HEAD -> master) Revert \"Deleted unnecesssary duplicate\"\n",
    "67edf4e Deleted unnecesssary duplicate\n",
    "2d64b0a Changed file2.txt name\n",
    "096d729 duplicated\n",
    "a5fb509 Discuss concerns about Mars' climate for Mummy\n",
    "70244e4 Add concerns about effects of Mars' moons on Wolfman\n",
    "d0aac91 Start notes on Mars as a base\n",
    "```\n",
    "\n",
    "We want to go back to the commit before we duplicated the file, when we \"Discuss concerns about Mars' climate for Mummy\", i.e. remove everything we've done in this episode from the repository.  We can do this with the command `git reset`\n",
    "\n",
    "```bash\n",
    "% git reset a5fb509\n",
    "% git status\n",
    "% git log --online\n",
    "```\n",
    "```brainfuck\n",
    "a5fb509 Discuss concerns about Mars' climate for Mummy\n",
    "70244e4 Add concerns about effects of Mars' moons on Wolfman\n",
    "d0aac91 Start notes on Mars as a base\n",
    "```\n",
    "\n",
    "Note that `git reset` has (apparently) deleted all commits after the one we have chosen to reset to.  This is different from `revert` which changed the current state of the repository but preserved the history and appended a new commit."
   ]
  },
  {
   "cell_type": "markdown",
   "metadata": {
    "slideshow": {
     "slide_type": "slide"
    }
   },
   "source": [
    "## Unstaging Files\n",
    "\n",
    "What happens if we make some changes to a file and `git add` them but decide we are not yet ready to commit.  We can unstage these commits in (at least) on of two ways.  First let's add a new line:\n",
    "```bash\n",
    "% nano mars.txt\n",
    "% cat mars.txt\n",
    "```\n",
    "```brainfuck\n",
    "Cold and dry, but everything is my favorite color\n",
    "The two moons may be a problem for Wolfman\n",
    "But the Mummy will appreciate the lack of humidity\n",
    "An unyet sure change\n",
    "```\n",
    "and stage the change:\n",
    "```bash\n",
    "% git add mars.txt\n",
    "% git status\n",
    "```\n",
    "```brainfuck\n",
    "On branch master\n",
    "Changes to be committed:\n",
    "  (use \"git reset HEAD <file>...\" to unstage)\n",
    "\n",
    "        modified:   mars.txt\n",
    "\n",
    "```"
   ]
  },
  {
   "cell_type": "markdown",
   "metadata": {
    "slideshow": {
     "slide_type": "slide"
    }
   },
   "source": [
    "Fortunately `git` has given us a suggestion as to how we can unstage these changes `\"git reset HEAD <file>...\"`.  Let's see what happens if we do this:\n",
    "```bash\n",
    "% git reset HEAD mars.txt\n",
    "% git status\n",
    "```\n",
    "```brainfuck\n",
    "On branch master\n",
    "Changes not staged for commit:\n",
    "  (use \"git add <file>...\" to update what will be committed)\n",
    "  (use \"git checkout -- <file>...\" to discard changes in working directory)\n",
    "\n",
    "        modified:   mars.txt\n",
    "\n",
    "no changes added to commit (use \"git add\" and/or \"git commit -a\")\n",
    "```\n",
    "```bash\n",
    "% cat mars.txt\n",
    "```\n",
    "```brainfuck\n",
    "Cold and dry, but everything is my favorite color\n",
    "The two moons may be a problem for Wolfman\n",
    "But the Mummy will appreciate the lack of humidity\n",
    "An unyet sure change\n",
    "```\n",
    "\n",
    "The file has been unstaged but the changes we made to the file have been preserved.  We don't want to keep this change so we checkout the previous version of the file with:\n",
    "```bash\n",
    "% git checkout HEAD mars.txt\n",
    "% cat mars.txt\n",
    "```\n",
    "```brainfuck\n",
    "Cold and dry, but everything is my favorite color\n",
    "The two moons may be a problem for Wolfman\n",
    "But the Mummy will appreciate the lack of humidity\n",
    "```\n",
    "```bash\n",
    "% git status\n",
    "```\n",
    "```brainfuck\n",
    "On branch master\n",
    "nothing to commit, working tree clean\n",
    "```"
   ]
  },
  {
   "cell_type": "markdown",
   "metadata": {
    "slideshow": {
     "slide_type": "slide"
    }
   },
   "source": [
    "## Remove staged files from the repository\n",
    "\n",
    "Finally what if we `git add` a file by mistake.  We need to remove it from the staging area but don't want to delete it from the directory.  Perhaps we have accidentally added an interim or output file.  First lets create a new file and add it to the the repository:\n",
    "```bash\n",
    "% touch phobos.txt\n",
    "% git add phobos.txt\n",
    "% git status\n",
    "```\n",
    "```brainfuck\n",
    "On branch master\n",
    "Changes to be committed:\n",
    "  (use \"git reset HEAD <file>...\" to unstage)\n",
    "\n",
    "        new file:   phobos.txt\n",
    "```\n",
    "\n",
    "What happens if we try to `git rm` the file:\n",
    "```bash \n",
    "git rm phobos.txt\n",
    "```\n",
    "```brainfuck\n",
    "error: the following file has changes staged in the index:\n",
    "    phobos.txt\n",
    "(use --cached to keep the file, or -f to force removal)\n",
    "```\n",
    "\n",
    "Git won't let us to simply remove the file since the changes have already been staged.  Note that once again `git` has prompted us for what we might want to do, indeed it recomments using the `--cached` flag if we only intend to unstafe the file.  Let's gie it a try:\n",
    "```bash\n",
    "% git rm --cached phobos.txt\n",
    "```\n",
    "```brainfuck\n",
    "rm 'phobos.txt'\n",
    "```\n",
    "This looks like the file has been removed but we can check its status with:\n",
    "```bash\n",
    "% ls\n",
    "```\n",
    "```brainfuck\n",
    "mars.txt  phobos.txt\n",
    "```\n",
    "and:\n",
    "```bash\n",
    "% git status\n",
    "```\n",
    "```brainfuck\n",
    "On branch master\n",
    "Untracked files:\n",
    "  (use \"git add <file>...\" to include in what will be committed)\n",
    "\n",
    "        phobos.txt\n",
    "\n",
    "nothing added to commit but untracked files present (use \"git add\" to track)\n",
    "\n",
    "```\n",
    "\n",
    "So `phobos.txt` is no longer being tracked by git but has not been deleted.  Actually we decide we don't need this empty file  apparently there's nothing of interest worthy of recording on phobos so we delete the file.  As it is not in the git repository we can just use:\n",
    "```bash\n",
    "% rm phobos.txt\n",
    "% ls\n",
    "```\n",
    "```brainfuck\n",
    "mars.txt\n",
    "```\n",
    "```bash\n",
    "% git status\n",
    "```\n",
    "```brainfuck\n",
    "On branch master\n",
    "nothing to commit, working tree clean\n",
    "```"
   ]
  },
  {
   "cell_type": "markdown",
   "metadata": {
    "slideshow": {
     "slide_type": "slide"
    }
   },
   "source": [
    "## Key Points\n",
    "- `git mv` can be used to rename or move files within the repository.\n",
    "- `git rm` can be used to remove a file from a repository, or with `--cached` unstage a file\n",
    "- `git checkout <commit id> <file>` recovers old versions of files.\n",
    "- `git checkout <commit id>` moves your position in the repository.\n",
    "- `git revert` can be used to revert the entire repository to a previous state, or undo changes in range of commits, creating a *new* commit.\n",
    "- `git reset` changes the current HEAD to an earlier commit"
   ]
  }
 ],
 "metadata": {
  "celltoolbar": "Slideshow",
  "kernelspec": {
   "display_name": "Python 3",
   "language": "python",
   "name": "python3"
  },
  "language_info": {
   "codemirror_mode": {
    "name": "ipython",
    "version": 3
   },
   "file_extension": ".py",
   "mimetype": "text/x-python",
   "name": "python",
   "nbconvert_exporter": "python",
   "pygments_lexer": "ipython3",
   "version": "3.6.4"
  }
 },
 "nbformat": 4,
 "nbformat_minor": 2
}
