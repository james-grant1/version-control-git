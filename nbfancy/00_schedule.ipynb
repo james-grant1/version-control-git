{
 "cells": [
  {
   "cell_type": "markdown",
   "metadata": {
    "slideshow": {
     "slide_type": "slide"
    }
   },
   "source": [
    "<div class=\"w3-bar w3-blue-grey w3-padding\">\n",
    "    <h2 class=\"w3-bar-item w3-padding-32\"><!-- Text Here --></h2>\n",
    "    <img class=\"w3-bar-item w3-right\" src=\"data:image/png;base64,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\">\n",
    "</div>"
   ]
  },
  {
   "cell_type": "markdown",
   "metadata": {
    "slideshow": {
     "slide_type": "slide"
    }
   },
   "source": [
    "# Version Control with Git"
   ]
  },
  {
   "cell_type": "markdown",
   "metadata": {
    "slideshow": {
     "slide_type": "slide"
    }
   },
   "source": [
    "Wolfman and Dracula have been hired by Universal Missions (a space services spinoff from Euphoric State University) to investigate if it is possible to send their next planetary lander to Mars. They want to be able to work on the plans at the same time, but they have run into problems doing this in the past. If they take turns, each one will spend a lot of time waiting for the other to finish, but if they work on their own copies and email changes back and forth things will be lost, overwritten, or duplicated.\n",
    "\n",
    "A colleague suggests using **version control** to manage their work. Version control is better than mailing files back and forth:\n",
    "\n",
    "- Nothing that is committed to version control is ever lost, unless you work really, really hard at it. Since all old versions of files are saved, it’s always possible to go back in time to see exactly who wrote what on a particular day, or what version of a program was used to generate a particular set of results.\n",
    "\n",
    "- As we have this record of who made what changes when, we know who to ask if we have questions later on, and, if needed, revert to a previous version, much like the “undo” feature in an editor.\n",
    "\n",
    "- When several people collaborate in the same project, it’s possible to accidentally overlook or overwrite someone’s changes. The version control system automatically notifies users whenever there’s a conflict between one person’s work and another’s.\n",
    "\n",
    "Teams are not the only ones to benefit from version control: lone researchers can benefit immensely. Keeping a record of what was changed, when, and why is extremely useful for all researchers if they ever need to come back to the project later on (e.g., a year later, when memory has faded).\n",
    "\n",
    "Version control is the lab notebook of the digital world: it’s what professionals use to keep track of what they’ve done and to collaborate with other people. Every large software development project relies on it, and most programmers use it for their small jobs as well. And it isn’t just for software: books, papers, small data sets, and anything that changes over time or needs to be shared can and should be stored in a version control system."
   ]
  },
  {
   "cell_type": "markdown",
   "metadata": {
    "slideshow": {
     "slide_type": "slide"
    }
   },
   "source": [
    "<div class=\"w3-panel w3-leftbar w3-border-green w3-pale-green w3-padding-small\">\n",
    "    <h3 id=\"-Prerequisites%3A%0A\"><i class=\"fa fa-star\"></i> Prerequisites:\n",
    "</h3>\n",
    "    <p>In order to complete the tutorial you should be familiar with:</p>\n",
    "<ul>\n",
    "<li>The linux command line</li>\n",
    "</ul>\n",
    "</div>"
   ]
  },
  {
   "cell_type": "markdown",
   "metadata": {
    "slideshow": {
     "slide_type": "slide"
    }
   },
   "source": [
    "<div class=\"w3-panel w3-leftbar w3-border-white w3-white w3-padding-small\">\n",
    "    <h3 id=\"-Schedule%3A%0A\"><i class=\"fa fa-clock-o\"></i> Schedule:\n",
    "</h3>\n",
    "    <p>Approximate timings for the lesson:</p>\n",
    "<table class=\"w3-table w3-striped w3-hoverable\">\n",
    "<thead class=\"w3-black\"><tr>\n",
    "<th>Time</th>\n",
    "<th>Episode</th>\n",
    "<th>Description</th>\n",
    "</tr>\n",
    "</thead>\n",
    "<tbody>\n",
    "<tr>\n",
    "<td>-:--</td>\n",
    "<td><a href=\"./00_setup.ipynb\">Setup</a></td>\n",
    "<td>Setup for the lesson</td>\n",
    "</tr>\n",
    "<tr>\n",
    "<td>0:00</td>\n",
    "<td><a href=\"./01_episode.ipynb\">Automated Version Control</a></td>\n",
    "<td>What is version control and why should I use it?</td>\n",
    "</tr>\n",
    "<tr>\n",
    "<td>0:05</td>\n",
    "<td><a href=\"./02_episode.ipynb\">Setting Up Git</a></td>\n",
    "<td>How do I get set up to use Git?</td>\n",
    "</tr>\n",
    "<tr>\n",
    "<td>0:10</td>\n",
    "<td><a href=\"./03_episode.ipynb\">Creating a Repository</a></td>\n",
    "<td>Where does Git store information?</td>\n",
    "</tr>\n",
    "<tr>\n",
    "<td>0:20</td>\n",
    "<td><a href=\"./04_episode.ipynb\">Tracking Changes</a></td>\n",
    "<td>How do I record changes in Git?</td>\n",
    "</tr>\n",
    "<tr>\n",
    "<td>-</td>\n",
    "<td>-</td>\n",
    "<td>How do I check the status of my version control repository?</td>\n",
    "</tr>\n",
    "<tr>\n",
    "<td>-</td>\n",
    "<td>-</td>\n",
    "<td>How do I record notes about what changes I made and why?</td>\n",
    "</tr>\n",
    "<tr>\n",
    "<td>0:40</td>\n",
    "<td><a href=\"./05_episode.ipynb\">Exploring History</a></td>\n",
    "<td>How can I identify old versions of files? </td>\n",
    "</tr>\n",
    "<tr>\n",
    "<td>-</td>\n",
    "<td>-</td>\n",
    "<td>How do I review my changes?</td>\n",
    "</tr>\n",
    "<tr>\n",
    "<td>-</td>\n",
    "<td>-</td>\n",
    "<td>How can I recover old versions of files?</td>\n",
    "</tr>\n",
    "<tr>\n",
    "<td>1:05</td>\n",
    "<td><a href=\"./06_episode.ipynb\">Changing History</a></td>\n",
    "<td>How can I move and delete files</td>\n",
    "</tr>\n",
    "<tr>\n",
    "<td>-</td>\n",
    "<td>-</td>\n",
    "<td>How can I recover old states of the repository</td>\n",
    "</tr>\n",
    "<tr>\n",
    "<td>1:25</td>\n",
    "<td><a href=\"./07_episode.ipynb\">Ignoring Things</a></td>\n",
    "<td>How can I tell Git to ignore files I don’t want to track?</td>\n",
    "</tr>\n",
    "<tr>\n",
    "<td>1:30</td>\n",
    "<td><a href=\"./08_episode.ipynb\">Remotes in GitHub</a></td>\n",
    "<td>How do I share my changes with others on the web?</td>\n",
    "</tr>\n",
    "<tr>\n",
    "<td>2:00</td>\n",
    "<td><a href=\"./09_episode.ipynb\">Collaborating</a></td>\n",
    "<td>How can I use version control to collaborate with other people?</td>\n",
    "</tr>\n",
    "<tr>\n",
    "<td>2:25</td>\n",
    "<td><a href=\"./10_episode.ipynb\">Conflicts</a></td>\n",
    "<td>What do I do when my changes conflict with someone else’s?</td>\n",
    "</tr>\n",
    "<tr>\n",
    "<td>2:40</td>\n",
    "<td><a href=\"./11_episode.ipynb\">Open Science</a></td>\n",
    "<td>How can version control help me make my work more open?</td>\n",
    "</tr>\n",
    "</tbody>\n",
    "</table>\n",
    "</div>"
   ]
  }
 ],
 "metadata": {
  "celltoolbar": "None",
  "kernelspec": {
   "display_name": "Python 3",
   "language": "python",
   "name": "python3"
  },
  "language_info": {
   "codemirror_mode": {
    "name": "ipython",
    "version": 3
   },
   "file_extension": ".py",
   "mimetype": "text/x-python",
   "name": "python",
   "nbconvert_exporter": "python",
   "pygments_lexer": "ipython3",
   "version": "3.8.3"
  },
  "livereveal": {
   "scroll": true
  }
 },
 "nbformat": 4,
 "nbformat_minor": 2
}
