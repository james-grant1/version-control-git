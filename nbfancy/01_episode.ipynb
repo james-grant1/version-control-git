{
 "cells": [
  {
   "cell_type": "markdown",
   "metadata": {
    "slideshow": {
     "slide_type": "slide"
    }
   },
   "source": [
    "<div class=\"w3-bar w3-blue-grey w3-padding\">\n",
    "    <h2 class=\"w3-bar-item w3-padding-32\"><!-- Text Here --></h2>\n",
    "    <img class=\"w3-bar-item w3-right\" src=\"data:image/png;base64,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\">\n",
    "</div>"
   ]
  },
  {
   "cell_type": "markdown",
   "metadata": {
    "slideshow": {
     "slide_type": "slide"
    }
   },
   "source": [
    "# Automated Version Control"
   ]
  },
  {
   "cell_type": "markdown",
   "metadata": {
    "slideshow": {
     "slide_type": "subslide"
    }
   },
   "source": [
    "<div class=\"w3-panel w3-leftbar w3-border-green w3-pale-green w3-padding-small\">\n",
    "    <h3 id=\"-Overview%3A%0A\"><i class=\"fa fa-file-o\"></i> Overview:\n",
    "</h3>\n",
    "    <ul>\n",
    "<li><strong>Teaching:</strong> 5 min</li>\n",
    "<li><strong>Exercises:</strong> 0 min</li>\n",
    "</ul>\n",
    "<p><strong>Questions</strong></p>\n",
    "<ul>\n",
    "<li>What is version control and why should I use it?</li>\n",
    "</ul>\n",
    "<p><strong>Objectives</strong></p>\n",
    "<ul>\n",
    "<li>Understand the benefits of an automated version control system.</li>\n",
    "<li>Understand the basics of how Git works.</li>\n",
    "</ul>\n",
    "</div>"
   ]
  },
  {
   "cell_type": "markdown",
   "metadata": {
    "slideshow": {
     "slide_type": "slide"
    }
   },
   "source": [
    "## Why use Version Control?\n",
    "\n",
    "We’ll start by exploring how version control can be used to keep track of what one person did and when. Even if you aren’t collaborating with other people, automated version control is much better than this situation:\n",
    "\n",
    "[![Piled Higher and Deeper by Jorge Cham, http://www.phdcomics.com/comics/archive_print.php?comicid=1531](../images/phd101212s.png)](http://www.phdcomics.com)\n",
    "“Piled Higher and Deeper” by Jorge Cham, http://www.phdcomics.com\n",
    "\n",
    "We’ve all been in this situation before: it seems ridiculous to have multiple nearly-identical versions of the same document. Some word processors let us deal with this a little better, such as Microsoft Word’s [Track Changes](https://support.office.com/en-us/article/Track-changes-in-Word-197ba630-0f5f-4a8e-9a77-3712475e806a), Google Docs’ [version history](https://support.google.com/docs/answer/190843?hl=en), or LibreOffice’s [Recording and Displaying Changes](https://help.libreoffice.org/Common/Recording_and_Displaying_Changes)."
   ]
  },
  {
   "cell_type": "markdown",
   "metadata": {
    "slideshow": {
     "slide_type": "slide"
    }
   },
   "source": [
    "## What is Version Control?\n",
    "\n",
    "Version control systems start with a base version of the document and then save just the changes you made at each step of the way. You can think of it as a tape: if you rewind the tape and start at the base document, then you can play back each change and end up with your latest version.\n",
    "\n",
    "![Changes Are Saved Sequentially](../images/play-changes.svg)\n",
    "\n",
    "Once you think of changes as separate from the document itself, you can then think about “playing back” different sets of changes onto the base document and getting different versions of the document. For example, two users can make independent sets of changes based on the same document.\n",
    "\n",
    "![Different Versions Can be Saved](../images/versions.svg)\n",
    "\n",
    "Unless there are conflicts, you can even play two sets of changes onto the same base document.\n",
    "\n",
    "![Multiple Versions Can be Merged](../images/merge.svg)"
   ]
  },
  {
   "cell_type": "markdown",
   "metadata": {
    "slideshow": {
     "slide_type": "slide"
    }
   },
   "source": [
    "A version control system is a tool that keeps track of these changes for us and helps us version and merge our files. It allows you to decide which changes make up the next version, called a commit, and keeps useful metadata about them. The complete history of commits for a particular project and their metadata make up a repository. Repositories can be kept in sync across different computers facilitating collaboration among different people."
   ]
  },
  {
   "cell_type": "markdown",
   "metadata": {
    "slideshow": {
     "slide_type": "slide"
    }
   },
   "source": [
    "<div class=\"w3-panel w3-leftbar w3-border-blue w3-pale-blue w3-padding-small\">\n",
    "    <h3 id=\"-The-Long-History-of-Version-Control-Systems%0A\"><i class=\"fa fa-info-circle\"></i> The Long History of Version Control Systems\n",
    "</h3>\n",
    "    <p>Automated version control systems are nothing new. Tools like RCS, CVS, or Subversion have been around since the early 1980s and are used by many large companies. However, many of these are now becoming considered as legacy systems due to various limitations in their capabilities. In particular, the more modern systems, such as Git and Mercurial are distributed, meaning that they do not need a centralized server to host the repository. These modern systems also include powerful merging tools that make it possible for multiple authors to work within the same files concurrently.</p>\n",
    "</div>"
   ]
  },
  {
   "cell_type": "markdown",
   "metadata": {
    "slideshow": {
     "slide_type": "slide"
    }
   },
   "source": [
    "<div class=\"w3-panel w3-leftbar w3-border-yellow w3-pale-yellow w3-padding-small\">\n",
    "    <h3 id=\"-Paper-Writing%0A\"><i class=\"fa fa-pencil-square-o\"></i> Paper Writing\n",
    "</h3>\n",
    "    <p>Imagine you drafted an excellent paragraph for a paper you are writing, but later ruin it. How would you retrieve the excellent version of your conclusion? Is it even possible?</p>\n",
    "<p>Imagine you have 5 co-authors. How would you manage the changes and comments they make to your paper? If you use LibreOffice Writer or Microsoft Word, what happens if you accept changes made using the <code>Track Changes</code> option? Do you have a history of those changes?</p>\n",
    "</div>"
   ]
  },
  {
   "cell_type": "markdown",
   "metadata": {
    "slideshow": {
     "slide_type": "slide"
    }
   },
   "source": [
    "<div class=\"w3-panel w3-leftbar w3-border-green w3-pale-green w3-padding-small\">\n",
    "    <h3 id=\"-Key-Points%3A%0A\"><i class=\"fa fa-key\"></i> Key Points:\n",
    "</h3>\n",
    "    <ul>\n",
    "<li>Version control is like an unlimited ‘undo’.</li>\n",
    "<li>Version control also allows many people to work in parallel.</li>\n",
    "</ul>\n",
    "</div>"
   ]
  },
  {
   "cell_type": "markdown",
   "metadata": {
    "slideshow": {
     "slide_type": "slide"
    }
   },
   "source": [
    "<div class=\"w3-bar w3-blue-grey\">\n",
    "<a href=\"./00_setup.ipynb\" class=\"w3-left-align w3-bar-item w3-button w3-mobile\" style=\"width:33%\"><h2><i class=\"fa fa-angle-double-left\"></i> Previous</h2></a>\n",
    "<a href=\"./00_schedule.ipynb\" class=\"w3-bar-item w3-button w3-center w3-mobile\" style=\"width:33%\"><h2>Schedule</h2></a>\n",
    "<a href=\"./02_episode.ipynb\" class=\"w3-right-align w3-bar-item w3-button w3-right w3-mobile\" style=\"width:33%\"><h2>Next <i class=\"fa fa-angle-double-right\"></i></h2></a>\n",
    "</div>"
   ]
  }
 ],
 "metadata": {
  "celltoolbar": "None",
  "kernelspec": {
   "display_name": "Python 3",
   "language": "python",
   "name": "python3"
  },
  "language_info": {
   "codemirror_mode": {
    "name": "ipython",
    "version": 3
   },
   "file_extension": ".py",
   "mimetype": "text/x-python",
   "name": "python",
   "nbconvert_exporter": "python",
   "pygments_lexer": "ipython3",
   "version": "3.8.3"
  },
  "livereveal": {
   "scroll": true
  }
 },
 "nbformat": 4,
 "nbformat_minor": 2
}
