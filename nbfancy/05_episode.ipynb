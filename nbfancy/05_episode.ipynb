{
 "cells": [
  {
   "cell_type": "markdown",
   "metadata": {
    "slideshow": {
     "slide_type": "slide"
    }
   },
   "source": [
    "<div class=\"w3-bar w3-blue-grey w3-padding\">\n",
    "    <h2 class=\"w3-bar-item w3-padding-32\"><!-- Text Here --></h2>\n",
    "    <img class=\"w3-bar-item w3-right\" src=\"data:image/png;base64,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\">\n",
    "</div>"
   ]
  },
  {
   "cell_type": "markdown",
   "metadata": {
    "slideshow": {
     "slide_type": "slide"
    }
   },
   "source": [
    "# Exploring History"
   ]
  },
  {
   "cell_type": "markdown",
   "metadata": {
    "slideshow": {
     "slide_type": "slide"
    }
   },
   "source": [
    "<div class=\"w3-panel w3-leftbar w3-border-green w3-pale-green w3-padding-small\">\n",
    "    <h3 id=\"-Overview%3A%0A\"><i class=\"fa fa-file-o\"></i> Overview:\n",
    "</h3>\n",
    "    <ul>\n",
    "<li><strong>Teaching:</strong> 25 min</li>\n",
    "<li><strong>Exercises:</strong> 0 min</li>\n",
    "</ul>\n",
    "<p><strong>Questions</strong></p>\n",
    "<ul>\n",
    "<li>How can I identify old versions of files?</li>\n",
    "<li>How do I review my changes?</li>\n",
    "<li>How can I recover old versions of files?</li>\n",
    "</ul>\n",
    "<p><strong>Objectives</strong></p>\n",
    "<ul>\n",
    "<li>Explain what the HEAD of a repository is and how to use it.</li>\n",
    "<li>Identify and use Git commit numbers.</li>\n",
    "<li>Compare various versions of tracked files.</li>\n",
    "<li>Restore old versions of files.</li>\n",
    "</ul>\n",
    "</div>"
   ]
  },
  {
   "cell_type": "markdown",
   "metadata": {
    "slideshow": {
     "slide_type": "slide"
    }
   },
   "source": [
    "As we saw in the previous lesson, we can refer to commits by their identifiers. You can refer to the most recent commit of the working directory by using the identifier `HEAD`.\n",
    "\n",
    "We’ve been adding one line at a time to `mars.txt`, so it’s easy to track our progress by looking, so let’s do that using our `HEAD`s. Before we start, let’s make a change to `mars.txt`.\n",
    "```bash\n",
    "% nano mars.txt\n",
    "% cat mars.txt\n",
    "```\n",
    "```brainfuck\n",
    "Cold and dry, but everything is my favorite color\n",
    "The two moons may be a problem for Wolfman\n",
    "But the Mummy will appreciate the lack of humidity\n",
    "An ill-considered change\n",
    "```"
   ]
  },
  {
   "cell_type": "markdown",
   "metadata": {
    "slideshow": {
     "slide_type": "slide"
    }
   },
   "source": [
    "Now, let’s see what we get.\n",
    "```bash\n",
    "$ git diff HEAD mars.txt\n",
    "```\n",
    "```brainfuck\n",
    "diff --git a/mars.txt b/mars.txt\n",
    "index b36abfd..0848c8d 100644\n",
    "--- a/mars.txt\n",
    "+++ b/mars.txt\n",
    "@@ -1,3 +1,4 @@\n",
    " Cold and dry, but everything is my favorite color\n",
    " The two moons may be a problem for Wolfman\n",
    " But the Mummy will appreciate the lack of humidity\n",
    "+An ill-considered change.\n",
    "```\n",
    "which is the same as what you would get if you leave out `HEAD` (try it). The real goodness in all this is when you can refer to previous commits. We do that by adding ~1 to refer to the commit one before `HEAD`."
   ]
  },
  {
   "cell_type": "markdown",
   "metadata": {
    "slideshow": {
     "slide_type": "slide"
    }
   },
   "source": [
    "If we want to see the differences between older commits we can use git diff again, but with the notation HEAD~1, HEAD~2, and so on, to refer to them:\n",
    "\n",
    "```bash\n",
    "$ git diff HEAD~1 mars.txt\n",
    "```\n",
    "\n",
    "```bash\n",
    "$ git diff HEAD~2 mars.txt\n",
    "```"
   ]
  },
  {
   "cell_type": "markdown",
   "metadata": {
    "slideshow": {
     "slide_type": "slide"
    }
   },
   "source": [
    "We could also use git show which shows us what changes we made at an older commit as well as the commit message, rather than the differences between a commit and our working directory that we see by using git diff.\n",
    "```bash\n",
    "$ git show HEAD~2 mars.txt\n",
    "```\n",
    "```brainfuck\n",
    "commit 34961b159c27df3b475cfe4415d94a6d1fcd064d\n",
    "Author: Vlad Dracula <vlad@tran.sylvan.ia>\n",
    "Date:   Thu Aug 22 10:07:21 2013 -0400\n",
    "\n",
    "    Start notes on Mars as a base\n",
    "\n",
    "diff --git a/mars.txt b/mars.txt\n",
    "new file mode 100644\n",
    "index 0000000..df0654a\n",
    "--- /dev/null\n",
    "+++ b/mars.txt\n",
    "@@ -0,0 +1 @@\n",
    "+Cold and dry, but everything is my favorite color\n",
    "```"
   ]
  },
  {
   "cell_type": "markdown",
   "metadata": {
    "slideshow": {
     "slide_type": "slide"
    }
   },
   "source": [
    "In this way, we can build up a chain of commits. The most recent end of the chain is referred to as `HEAD`; we can refer to previous commits using the `~` notation, so `HEAD~1` (pronounced “head minus one”) means “the previous commit”, while `HEAD~123` goes back 123 commits from where we are now.\n",
    "\n",
    "We can also refer to commits using those long strings of digits and letters that `git log` displays. These are unique IDs for the changes, and “unique” really does mean unique: every change to any set of files on any computer has a unique 40-character identifier. Our first commit was given the ID `f22b25e3233b4645dabd0d81e651fe074bd8e73b`, so let’s try this:\n",
    "```bash\n",
    "$ git diff f22b25e3233b4645dabd0d81e651fe074bd8e73b mars.txt\n",
    "```\n",
    "```brainfuck\n",
    "diff --git a/mars.txt b/mars.txt\n",
    "index df0654a..93a3e13 100644\n",
    "--- a/mars.txt\n",
    "+++ b/mars.txt\n",
    "@@ -1 +1,4 @@\n",
    " Cold and dry, but everything is my favorite color\n",
    "+The two moons may be a problem for Wolfman\n",
    "+But the Mummy will appreciate the lack of humidity\n",
    "+An ill-considered change\n",
    "```"
   ]
  },
  {
   "cell_type": "markdown",
   "metadata": {
    "slideshow": {
     "slide_type": "slide"
    }
   },
   "source": [
    "All right! So we can save changes to files and see what we’ve changednow how can we restore older versions of things? Let’s suppose we accidentally overwrite our file:\n",
    "```bash\n",
    "% nano mars.txt\n",
    "% cat mars.txt\n",
    "```\n",
    "```brainfuck\n",
    "We will need to manufacture our own oxygen\n",
    "```\n",
    "`git status` now tells us that the file has been changed, but those changes haven’t been staged:\n",
    "```bash\n",
    "$ git status\n",
    "```\n",
    "```brainfuck\n",
    "On branch master\n",
    "Changes not staged for commit:\n",
    "  (use \"git add <file>...\" to update what will be committed)\n",
    "  (use \"git checkout -- <file>...\" to discard changes in working directory)\n",
    "\n",
    "\tmodified:   mars.txt\n",
    "\n",
    "no changes added to commit (use \"git add\" and/or \"git commit -a\")\n",
    "```"
   ]
  },
  {
   "cell_type": "markdown",
   "metadata": {
    "slideshow": {
     "slide_type": "slide"
    }
   },
   "source": [
    "We can put things back the way they were by using git checkout:\n",
    "```bash\n",
    "$ git checkout HEAD mars.txt\n",
    "$ cat mars.txt\n",
    "```\n",
    "```brainfuck\n",
    "Cold and dry, but everything is my favorite color\n",
    "The two moons may be a problem for Wolfman\n",
    "But the Mummy will appreciate the lack of humidity\n",
    "```"
   ]
  },
  {
   "cell_type": "markdown",
   "metadata": {
    "slideshow": {
     "slide_type": "slide"
    }
   },
   "source": [
    "As you might guess from its name, `git checkout` checks out (i.e., restores) an old version of a file. In this case, we’re telling Git that we want to recover the version of the file recorded in `HEAD`, which is the last saved commit. If we want to go back even further, we can use a commit identifier instead:\n",
    "```bash\n",
    "% git checkout f22b25e mars.txt\n",
    "% cat mars.txt\n",
    "```\n",
    "```brainfuck\n",
    "Cold and dry, but everything is my favorite color\n",
    "```\n",
    "```bash\n",
    "$ git status\n",
    "```\n",
    "```brainfuck\n",
    "# On branch master\n",
    "Changes to be committed:\n",
    "  (use \"git reset HEAD <file>...\" to unstage)\n",
    "# Changes not staged for commit:\n",
    "#   (use \"git add <file>...\" to update what will be committed)\n",
    "#   (use \"git checkout -- <file>...\" to discard changes in working directory)\n",
    "#\n",
    "#\tmodified:   mars.txt\n",
    "#\n",
    "no changes added to commit (use \"git add\" and/or \"git commit -a\")\n",
    "```\n",
    "Notice that the changes are on the staged area. Again, we can put things back the way they were by using `git checkout`:\n",
    "```bash\n",
    "% git checkout HEAD mars.txt\n",
    "```"
   ]
  },
  {
   "cell_type": "markdown",
   "metadata": {
    "slideshow": {
     "slide_type": "slide"
    }
   },
   "source": [
    "<div class=\"w3-panel w3-leftbar w3-border-blue w3-pale-blue w3-padding-small\">\n",
    "    <h3 id=\"-Don%E2%80%99t-Lose-Your-HEAD%0A\"><i class=\"fa fa-info-circle\"></i> Don’t Lose Your HEAD\n",
    "</h3>\n",
    "    <p>Above we used</p>\n",
    "<div class=\"highlight\"><pre><span></span>% git checkout f22b25e mars.txt\n",
    "</pre></div>\n",
    "<p>to revert <code>mars.txt</code> to its state after the commit <code>f22b25e.</code> If you forget <code>mars.txt</code> in that command, Git will tell you that “You are in ‘detached HEAD’ state.” In this state, you shouldn’t make any changes. You can fix this by reattaching your head using <code>git checkout master</code></p>\n",
    "</div>"
   ]
  },
  {
   "cell_type": "markdown",
   "metadata": {
    "slideshow": {
     "slide_type": "slide"
    }
   },
   "source": [
    "It’s important to remember that we must use the commit number that identifies the state of the repository before the change we’re trying to undo. A common mistake is to use the number of the commit in which we made the change we’re trying to get rid of. In the example below, we want to retrieve the state from before the most recent commit (`HEAD~1`), which is commit `f22b25e`:\n",
    "![Git chekcout](../images/git-checkout.svg)\n",
    "So, to put it all together, here’s how Git works in cartoon form:\n",
    "![Git staging](../images/git_staging.svg)"
   ]
  },
  {
   "cell_type": "markdown",
   "metadata": {
    "slideshow": {
     "slide_type": "slide"
    }
   },
   "source": [
    "<div class=\"w3-panel w3-leftbar w3-border-blue w3-pale-blue w3-padding-small\">\n",
    "    <h3 id=\"-Simplifying-the-Common-Case%0A\"><i class=\"fa fa-info-circle\"></i> Simplifying the Common Case\n",
    "</h3>\n",
    "    <p>If you read the output of git status carefully, you’ll see that it includes this hint:</p>\n",
    "<div class=\"highlight\"><pre><span></span><span class=\"c\">(use &quot;git checkout </span><span class=\"nb\">--</span><span class=\"c\"> </span><span class=\"nv\">&lt;</span><span class=\"c\">file</span><span class=\"nv\">&gt;</span><span class=\"nt\">...</span><span class=\"c\">&quot; to discard changes in working directory)</span>\n",
    "</pre></div>\n",
    "<p>As it says, <code>git checkout</code> without a version identifier restores files to the state saved in <code>HEAD</code>. The double dash <code>--</code> is needed to separate the names of the files being recovered from the command itself: without it, Git would try to use the name of the file as the commit identifier.</p>\n",
    "</div>"
   ]
  },
  {
   "cell_type": "markdown",
   "metadata": {
    "slideshow": {
     "slide_type": "slide"
    }
   },
   "source": [
    "The fact that files can be reverted one by one tends to change the way people organize their work. If everything is in one large document, it’s hard (but not impossible) to undo changes to the introduction without also undoing changes made later to the conclusion. If the introduction and conclusion are stored in separate files, on the other hand, moving backward and forward in time becomes much easier."
   ]
  },
  {
   "cell_type": "markdown",
   "metadata": {
    "slideshow": {
     "slide_type": "slide"
    }
   },
   "source": [
    "<div class=\"w3-panel w3-leftbar w3-border-yellow w3-pale-yellow w3-padding-small\">\n",
    "    <h3 id=\"-Recovering-Older-Versions-of-a-File%0A\"><i class=\"fa fa-pencil-square-o\"></i> Recovering Older Versions of a File\n",
    "</h3>\n",
    "    <p>Jennifer has made changes to the Python script that she has been working on for weeks, and the modifications she made this morning “broke” the script and it no longer runs. She has spent ~ 1hr trying to fix it, with no luck…</p>\n",
    "<p>Luckily, she has been keeping track of her project’s versions using Git! Which commands below will let her recover the last committed version of her Python script called data_cruncher.py?</p>\n",
    "<ol>\n",
    "<li><div class=\"highlight\"><pre><span></span>% git checkout HEAD<span class=\"sb\">`</span>\n",
    "</pre></div>\n",
    "</li>\n",
    "<li><div class=\"highlight\"><pre><span></span>% git checkout HEAD data_cruncher.py<span class=\"sb\">`</span>\n",
    "</pre></div>\n",
    "</li>\n",
    "<li><div class=\"highlight\"><pre><span></span>% git checkout HEAD~1 data_cruncher.py<span class=\"sb\">`</span>\n",
    "</pre></div>\n",
    "</li>\n",
    "<li><div class=\"highlight\"><pre><span></span>% git checkout &lt;unique ID of last commit&gt; data_cruncher.py<span class=\"sb\">`</span>\n",
    "</pre></div>\n",
    "</li>\n",
    "<li><div class=\"highlight\"><pre><span></span>Both <span class=\"m\">2</span> and <span class=\"m\">4</span>\n",
    "</pre></div>\n",
    "</li>\n",
    "</ol>\n",
    "</div>"
   ]
  },
  {
   "cell_type": "markdown",
   "metadata": {
    "slideshow": {
     "slide_type": "slide"
    }
   },
   "source": [
    "<div class=\"w3-panel w3-leftbar w3-border-yellow w3-pale-yellow w3-padding-small\">\n",
    "    <h3 id=\"-Checking-Understanding-of-git-diff%0A\"><i class=\"fa fa-pencil-square-o\"></i> Checking Understanding of git diff\n",
    "</h3>\n",
    "    <p>Consider this command: <code>git diff HEAD~3 mars.txt</code>. What do you predict this command will do if you execute it? What happens when you do execute it? Why?</p>\n",
    "<p>Try another command, <code>git diff [ID] mars.txt</code>, where [ID] is replaced with the unique identifier for your most recent commit. What do you think will happen, and what does happen?</p>\n",
    "</div>"
   ]
  },
  {
   "cell_type": "markdown",
   "metadata": {
    "slideshow": {
     "slide_type": "slide"
    }
   },
   "source": [
    "<div class=\"w3-panel w3-leftbar w3-border-yellow w3-pale-yellow w3-padding-small\">\n",
    "    <h3 id=\"-Getting-Rid-of-Staged-Changes%0A\"><i class=\"fa fa-pencil-square-o\"></i> Getting Rid of Staged Changes\n",
    "</h3>\n",
    "    <p><code>git checkout</code> can be used to restore a previous commit when unstaged changes have been made, but will it also work for changes that have been staged but not committed? Make a change to <code>mars.txt</code>, add that change, and use <code>git checkout</code> to see if you can remove your change.</p>\n",
    "</div>"
   ]
  },
  {
   "cell_type": "markdown",
   "metadata": {
    "slideshow": {
     "slide_type": "slide"
    }
   },
   "source": [
    "<div class=\"w3-panel w3-leftbar w3-border-yellow w3-pale-yellow w3-padding-small\">\n",
    "    <h3 id=\"-Explore-and-Summarize-Histories%0A\"><i class=\"fa fa-pencil-square-o\"></i> Explore and Summarize Histories\n",
    "</h3>\n",
    "    <p>Exploring history is an important part of git, often it is a challenge to find the right commit ID, especially if the commit is from several months ago.</p>\n",
    "<p>Imagine the <code>planets</code> project has more than 50 files. You would like to find a commit with specific text in <code>mars.txt</code> is modified. When you type <code>git log</code>, a very long list appeared, How can you narrow down the search?</p>\n",
    "<p>Recall that the <code>git diff</code> command allow us to explore one specific file, e.g. <code>git diff mars.txt</code>. We can apply a similar idea here.</p>\n",
    "<div class=\"highlight\"><pre><span></span>% git log mars.txt\n",
    "</pre></div>\n",
    "<p>Unfortunately some of these commit messages are very ambiguous e.g. update files. How can you search through these files?</p>\n",
    "<p>Both <code>git diff</code> and <code>git log</code> are very useful and they summarize a different part of the history for you. Is it possible to combine both? Let’s try the following:</p>\n",
    "<div class=\"highlight\"><pre><span></span>% git log --patch mars.txt\n",
    "</pre></div>\n",
    "<p>You should get a long list of output, and you should be able to see both commit messages and the difference between each commit.</p>\n",
    "<p>Question: What does the following command do?</p>\n",
    "<div class=\"highlight\"><pre><span></span>% git log --patch HEAD~3 &ast;.txt\n",
    "</pre></div>\n",
    "<p>While we all try to provide useful commit messages <code>git</code> provides the tools to help use understand even our least nformative commit messages, through the combination of specific commit ids and files.</p>\n",
    "</div>"
   ]
  },
  {
   "cell_type": "markdown",
   "metadata": {
    "slideshow": {
     "slide_type": "slide"
    }
   },
   "source": [
    "<div class=\"w3-panel w3-leftbar w3-border-green w3-pale-green w3-padding-small\">\n",
    "    <h3 id=\"-Key-Points%3A%0A\"><i class=\"fa fa-key\"></i> Key Points:\n",
    "</h3>\n",
    "    <ul>\n",
    "<li><code>git diff</code> displays differences between commits.</li>\n",
    "<li><code>git checkout &lt;commit id&gt; &lt;file&gt;</code> recovers old versions of files.</li>\n",
    "</ul>\n",
    "</div>"
   ]
  },
  {
   "cell_type": "markdown",
   "metadata": {
    "slideshow": {
     "slide_type": "slide"
    }
   },
   "source": [
    "<div class=\"w3-bar w3-blue-grey\">\n",
    "<a href=\"./04_episode.ipynb\" class=\"w3-left-align w3-bar-item w3-button w3-mobile\" style=\"width:33%\"><h2><i class=\"fa fa-angle-double-left\"></i> Previous</h2></a>\n",
    "<a href=\"./00_schedule.ipynb\" class=\"w3-bar-item w3-button w3-center w3-mobile\" style=\"width:33%\"><h2>Schedule</h2></a>\n",
    "<a href=\"./06_episode.ipynb\" class=\"w3-right-align w3-bar-item w3-button w3-right w3-mobile\" style=\"width:33%\"><h2>Next <i class=\"fa fa-angle-double-right\"></i></h2></a>\n",
    "</div>"
   ]
  }
 ],
 "metadata": {
  "celltoolbar": "None",
  "kernelspec": {
   "display_name": "Python 3",
   "language": "python",
   "name": "python3"
  },
  "language_info": {
   "codemirror_mode": {
    "name": "ipython",
    "version": 3
   },
   "file_extension": ".py",
   "mimetype": "text/x-python",
   "name": "python",
   "nbconvert_exporter": "python",
   "pygments_lexer": "ipython3",
   "version": "3.8.3"
  },
  "livereveal": {
   "scroll": true
  }
 },
 "nbformat": 4,
 "nbformat_minor": 2
}
