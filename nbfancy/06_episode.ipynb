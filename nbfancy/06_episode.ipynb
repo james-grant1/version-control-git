{
 "cells": [
  {
   "cell_type": "markdown",
   "metadata": {
    "slideshow": {
     "slide_type": "slide"
    }
   },
   "source": [
    "<div class=\"w3-bar w3-blue-grey w3-padding\">\n",
    "    <h2 class=\"w3-bar-item w3-padding-32\"><!-- Text Here --></h2>\n",
    "    <img class=\"w3-bar-item w3-right\" src=\"data:image/png;base64,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\">\n",
    "</div>"
   ]
  },
  {
   "cell_type": "markdown",
   "metadata": {
    "slideshow": {
     "slide_type": "slide"
    }
   },
   "source": [
    "# Changing History"
   ]
  },
  {
   "cell_type": "markdown",
   "metadata": {
    "slideshow": {
     "slide_type": "slide"
    }
   },
   "source": [
    "<div class=\"w3-panel w3-leftbar w3-border-green w3-pale-green w3-padding-small\">\n",
    "    <h3 id=\"-Overview%3A%0A\"><i class=\"fa fa-file-o\"></i> Overview:\n",
    "</h3>\n",
    "    <ul>\n",
    "<li><strong>Teaching:</strong> 20 min</li>\n",
    "<li><strong>Exercises:</strong> 0 min</li>\n",
    "</ul>\n",
    "<p><strong>Questions</strong></p>\n",
    "<ul>\n",
    "<li>How should I change filenames in git</li>\n",
    "<li>How do I remove files in Git</li>\n",
    "<li>What does <code>checkout</code> do?</li>\n",
    "<li>What are <code>revert</code> and <code>reset</code>?</li>\n",
    "</ul>\n",
    "<p><strong>Objectives</strong></p>\n",
    "<ul>\n",
    "<li>Know how to rename and remove git tracked files.</li>\n",
    "<li>Understand that <code>checkout</code> moves you around in the git history.</li>\n",
    "<li>Know that <code>revert</code> and <code>reset</code> move and remove commits respectively, they change history around you.</li>\n",
    "<li>Know how to undo staging of files.</li>\n",
    "</ul>\n",
    "</div>"
   ]
  },
  {
   "cell_type": "markdown",
   "metadata": {
    "slideshow": {
     "slide_type": "slide"
    }
   },
   "source": [
    "## Changing a filename\n",
    "\n",
    "Let's say that we would like to create a duplicate of `mars.txt` e.g. so that so that Wolfman could record his own observation separately from Vlad.  Create a copy of mars.txt with:\n",
    "```bash\n",
    "% cp mars.txt mars2.txt\n",
    "% ls\n",
    "```\n",
    "```brainfuck\n",
    "mars.txt  mars2.txt\n",
    "```\n",
    "\n",
    "and add the file and commit it to the repository:\n",
    "```bash\n",
    "% git add mars2.txt\n",
    "% git commit -m \"Duplicated mars.txt for Wolfman's observations\"\n",
    "```\n",
    "```brainfuck\n",
    "[master 096d729] Duplicated mars.txt for Wolfman's observations\n",
    " 1 file changed, 3 insertions(+)\n",
    " create mode 100644 mars2.txt\n",
    "```"
   ]
  },
  {
   "cell_type": "markdown",
   "metadata": {
    "slideshow": {
     "slide_type": "slide"
    }
   },
   "source": [
    "Later we realise that this isn't the most informative filename so decide to change the filename to `mars_wolfman.txt\":\n",
    "```bash\n",
    "% mv mars2.txt mars_wolfman.txt\n",
    "```\n",
    "\n",
    "We can now check the status of the repository:\n",
    "```bash\n",
    "% git status\n",
    "```\n",
    "```brainfuck\n",
    "On branch master\n",
    "Changes not staged for commit:\n",
    "  (use \"git add/rm <file>...\" to update what will be committed)\n",
    "  (use \"git checkout -- <file>...\" to discard changes in working directory)\n",
    "\n",
    "        deleted:    mars2.txt\n",
    "\n",
    "Untracked files:\n",
    "  (use \"git add <file>...\" to include in what will be committed)\n",
    "\n",
    "        mars_wolfman.txt\n",
    "\n",
    "no changes added to commit (use \"git add\" and/or \"git commit -a\")\n",
    "```"
   ]
  },
  {
   "cell_type": "markdown",
   "metadata": {
    "slideshow": {
     "slide_type": "slide"
    }
   },
   "source": [
    "We could now add the new file and while this is in principle okay, in that it will result in the file changing name, it is inefficient for git to delete and create with the same content.  However there is another git like way.  First lets revert the filename:\n",
    "```bash\n",
    "% mv mars_wolfman.txt mars2.txt\n",
    "% git status\n",
    "```\n",
    "```brainfuck\n",
    "On branch master\n",
    "nothing to commit, working tree clean\n",
    "```\n",
    "\n",
    "Now we use the command:\n",
    "```bash\n",
    "% git mv mars2.txt mars_wolfman.txt\n",
    "% git status\n",
    "```\n",
    "```brainfuck\n",
    "On branch master\n",
    "Changes to be committed:\n",
    "  (use \"git reset HEAD <file>...\" to unstage)\n",
    "\n",
    "        renamed:    mars2.txt -> mars_wolfman\n",
    "```\n",
    "Note that these changes are staged we still have to commit the change, but we no longer have to `git add` the new filename.  Let's commit the change of filename:\n",
    "```bash\n",
    "% git commit -m \"Changed filename for Wolfmans observations\"\n",
    "```\n",
    "```brainfuck\n",
    "[master 2d64b0a] Changed filename for Wolfmans observations\n",
    " 1 file changed, 0 insertions(+), 0 deletions(-)\n",
    " rename mars2.txt => mars_wolfman.txt (100%)\n",
    "```"
   ]
  },
  {
   "cell_type": "markdown",
   "metadata": {
    "slideshow": {
     "slide_type": "slide"
    }
   },
   "source": [
    "Finally we learn that we will learn about how to deal with potential conflicts between commits in a future episode so decide to delete the new file.  Once again we could just remove the file with `rm` but suspect that as with changing filenames there might be a git way of removing files.  Indeed there is and we can remove the file from the repository with the command:\n",
    "```bash\n",
    "% git rm mars_wolfman.txt\n",
    "% git status\n",
    "```\n",
    "```brainfuck\n",
    "On branch master\n",
    "Changes to be committed:\n",
    "  (use \"git reset HEAD <file>...\" to unstage)\n",
    "\n",
    "        deleted:    mars_wolfman.txt\n",
    "```\n",
    "\n",
    "As always these changes are staged and we need to commit them to the repository:\n",
    "```bash\n",
    "% git commit -m \"Deleted unnecessary wolfman duplicate file\"\n",
    "```\n",
    "```brainfuck\n",
    "[master 67edf4e] Deleted unnecessary wolfman duplicate file\n",
    " 1 file changed, 3 deletions(-)\n",
    " delete mode 100644 mars_wolfman.txt\n",
    "```"
   ]
  },
  {
   "cell_type": "markdown",
   "metadata": {
    "slideshow": {
     "slide_type": "slide"
    }
   },
   "source": [
    "## Checkout, Revert and Reset"
   ]
  },
  {
   "cell_type": "markdown",
   "metadata": {
    "slideshow": {
     "slide_type": "slide"
    }
   },
   "source": [
    "In the previous episode we used the command `git checkout HEAD <file>`, to undo changes to a file that we wanted to discard.  Used in this was checkout switches to the version of the file in the specified commit.  We can also use checkout without specifying a filename, to move to a different position in the git history, as seen in the previous episode under \"Don’t Lose Your HEAD\".\n",
    "\n",
    "What happens if we want to undo some changes we have made in error but keep a record of them instead of moving around in the history.  Perhaps we don't believe our instructor that it is possible to deal with conflicts and we want to `revert` to the previous commit before `mars_wolfman.txt` was deleted.  We could try running `git checkout HEAD~1 mars_wolfman.txt` but if we had removed or changed several files then this would take a while and we might forget to checkout out one of the files. \n",
    "\n",
    "Fortunately git offers us a quick way to do this with the command, and check the review the git log for the last two commits:\n",
    "```bash\n",
    "% git revert HEAD # Note we want to revert the last commit\n",
    "% git log -2\n",
    "```\n",
    "```brainfuck\n",
    "commit f8e774dab9bc05cf72d92df90297d0dd352f2fcd (HEAD -> master)\n",
    "Author: James Grant <r.j.grant@bath.ac.uk>\n",
    "Date:   Fri Nov 9 14:56:34 2018 +0000\n",
    "\n",
    "    Revert \"Deleted unnecessary wolfman duplicate file\"\n",
    "\n",
    "    This reverts commit 67edf4e4268580162931e994d0e960ac11d44bcb.\n",
    "\n",
    "commit 67edf4e4268580162931e994d0e960ac11d44bcb\n",
    "Author: James Grant <r.j.grant@bath.ac.uk>\n",
    "Date:   Fri Nov 9 14:28:28 2018 +0000\n",
    "\n",
    "    Deleted unnecessary wolfman duplicate file\n",
    "```"
   ]
  },
  {
   "cell_type": "markdown",
   "metadata": {
    "slideshow": {
     "slide_type": "slide"
    }
   },
   "source": [
    "After speaking with your collaborator you decide to bare with your instructor for the rest of the workshop and want to undo the changes you've made to avoid embarassment.  This is of course unnecessary as we are all here learning together, but perhaps we want to tidy the repository a bit.  We can remove any record of what we've been doing with the reset command.\n",
    "\n",
    "First lets check theoneline version of the log:\n",
    "```bash\n",
    "% git log --oneline\n",
    "```\n",
    "```brainfuck\n",
    "f8e774d (HEAD -> master) Revert \"Deleted unnecesssary duplicate\"\n",
    "67edf4e Deleted unnecesssary duplicate\n",
    "2d64b0a Changed file2.txt name\n",
    "096d729 duplicated\n",
    "a5fb509 Discuss concerns about Mars' climate for Mummy\n",
    "70244e4 Add concerns about effects of Mars' moons on Wolfman\n",
    "d0aac91 Start notes on Mars as a base\n",
    "```\n",
    "\n",
    "We want to go back to the commit before we duplicated the file, when we \"Discuss concerns about Mars' climate for Mummy\", i.e. remove everything we've done in this episode from the repository.  We can do this with the command `git reset`\n",
    "\n",
    "```bash\n",
    "% git reset a5fb509\n",
    "% git status\n",
    "% git log --online\n",
    "```\n",
    "```brainfuck\n",
    "a5fb509 Discuss concerns about Mars' climate for Mummy\n",
    "70244e4 Add concerns about effects of Mars' moons on Wolfman\n",
    "d0aac91 Start notes on Mars as a base\n",
    "```\n",
    "\n",
    "Note that `git reset` has (apparently) deleted all commits after the one we have chosen to reset to.  This is different from `revert` which changed the current state of the repository but preserved the history and appended a new commit."
   ]
  },
  {
   "cell_type": "markdown",
   "metadata": {
    "slideshow": {
     "slide_type": "slide"
    }
   },
   "source": [
    "## Unstaging Files\n",
    "\n",
    "What happens if we make some changes to a file and `git add` them but decide we are not yet ready to commit.  We can unstage these commits in (at least) on of two ways.  First let's add a new line:\n",
    "```bash\n",
    "% nano mars.txt\n",
    "% cat mars.txt\n",
    "```\n",
    "```brainfuck\n",
    "Cold and dry, but everything is my favorite color\n",
    "The two moons may be a problem for Wolfman\n",
    "But the Mummy will appreciate the lack of humidity\n",
    "An unyet sure change\n",
    "```\n",
    "and stage the change:\n",
    "```bash\n",
    "% git add mars.txt\n",
    "% git status\n",
    "```\n",
    "```brainfuck\n",
    "On branch master\n",
    "Changes to be committed:\n",
    "  (use \"git reset HEAD <file>...\" to unstage)\n",
    "\n",
    "        modified:   mars.txt\n",
    "\n",
    "```"
   ]
  },
  {
   "cell_type": "markdown",
   "metadata": {
    "slideshow": {
     "slide_type": "slide"
    }
   },
   "source": [
    "Fortunately `git` has given us a suggestion as to how we can unstage these changes `\"git reset HEAD <file>...\"`.  Let's see what happens if we do this:\n",
    "```bash\n",
    "% git reset HEAD mars.txt\n",
    "% git status\n",
    "```\n",
    "```brainfuck\n",
    "On branch master\n",
    "Changes not staged for commit:\n",
    "  (use \"git add <file>...\" to update what will be committed)\n",
    "  (use \"git checkout -- <file>...\" to discard changes in working directory)\n",
    "\n",
    "        modified:   mars.txt\n",
    "\n",
    "no changes added to commit (use \"git add\" and/or \"git commit -a\")\n",
    "```\n",
    "```bash\n",
    "% cat mars.txt\n",
    "```\n",
    "```brainfuck\n",
    "Cold and dry, but everything is my favorite color\n",
    "The two moons may be a problem for Wolfman\n",
    "But the Mummy will appreciate the lack of humidity\n",
    "An unyet sure change\n",
    "```\n",
    "\n",
    "The file has been unstaged but the changes we made to the file have been preserved.  We don't want to keep this change so we checkout the previous version of the file with:\n",
    "```bash\n",
    "% git checkout HEAD mars.txt\n",
    "% cat mars.txt\n",
    "```\n",
    "```brainfuck\n",
    "Cold and dry, but everything is my favorite color\n",
    "The two moons may be a problem for Wolfman\n",
    "But the Mummy will appreciate the lack of humidity\n",
    "```\n",
    "```bash\n",
    "% git status\n",
    "```\n",
    "```brainfuck\n",
    "On branch master\n",
    "nothing to commit, working tree clean\n",
    "```"
   ]
  },
  {
   "cell_type": "markdown",
   "metadata": {
    "slideshow": {
     "slide_type": "slide"
    }
   },
   "source": [
    "## Remove staged files from the repository\n",
    "\n",
    "Finally what if we `git add` a file by mistake.  We need to remove it from the staging area but don't want to delete it from the directory.  Perhaps we have accidentally added an interim or output file.  First lets create a new file and add it to the the repository:\n",
    "```bash\n",
    "% touch phobos.txt\n",
    "% git add phobos.txt\n",
    "% git status\n",
    "```\n",
    "```brainfuck\n",
    "On branch master\n",
    "Changes to be committed:\n",
    "  (use \"git reset HEAD <file>...\" to unstage)\n",
    "\n",
    "        new file:   phobos.txt\n",
    "```\n",
    "\n",
    "What happens if we try to `git rm` the file:\n",
    "```bash \n",
    "git rm phobos.txt\n",
    "```\n",
    "```brainfuck\n",
    "error: the following file has changes staged in the index:\n",
    "    phobos.txt\n",
    "(use --cached to keep the file, or -f to force removal)\n",
    "```\n",
    "\n",
    "Git won't let us to simply remove the file since the changes have already been staged.  Note that once again `git` has prompted us for what we might want to do, indeed it recomments using the `--cached` flag if we only intend to unstafe the file.  Let's gie it a try:\n",
    "```bash\n",
    "% git rm --cached phobos.txt\n",
    "```\n",
    "```brainfuck\n",
    "rm 'phobos.txt'\n",
    "```\n",
    "This looks like the file has been removed but we can check its status with:\n",
    "```bash\n",
    "% ls\n",
    "```\n",
    "```brainfuck\n",
    "mars.txt  phobos.txt\n",
    "```\n",
    "and:\n",
    "```bash\n",
    "% git status\n",
    "```\n",
    "```brainfuck\n",
    "On branch master\n",
    "Untracked files:\n",
    "  (use \"git add <file>...\" to include in what will be committed)\n",
    "\n",
    "        phobos.txt\n",
    "\n",
    "nothing added to commit but untracked files present (use \"git add\" to track)\n",
    "\n",
    "```\n",
    "\n",
    "So `phobos.txt` is no longer being tracked by git but has not been deleted.  Actually we decide we don't need this empty file  apparently there's nothing of interest worthy of recording on phobos so we delete the file.  As it is not in the git repository we can just use:\n",
    "```bash\n",
    "% rm phobos.txt\n",
    "% ls\n",
    "```\n",
    "```brainfuck\n",
    "mars.txt\n",
    "```\n",
    "```bash\n",
    "% git status\n",
    "```\n",
    "```brainfuck\n",
    "On branch master\n",
    "nothing to commit, working tree clean\n",
    "```"
   ]
  },
  {
   "cell_type": "markdown",
   "metadata": {
    "slideshow": {
     "slide_type": "slide"
    }
   },
   "source": [
    "<div class=\"w3-panel w3-leftbar w3-border-green w3-pale-green w3-padding-small\">\n",
    "    <h3 id=\"-Key-Points%3A%0A\"><i class=\"fa fa-key\"></i> Key Points:\n",
    "</h3>\n",
    "    <ul>\n",
    "<li><code>git mv</code> can be used to rename or move files within the repository.</li>\n",
    "<li><code>git rm</code> can be used to remove a file from a repository, or with <code>--cached</code> unstage a file</li>\n",
    "<li><code>git checkout &lt;commit id&gt; &lt;file&gt;</code> recovers old versions of files.</li>\n",
    "<li><code>git checkout &lt;commit id&gt;</code> moves your position in the repository.</li>\n",
    "<li><code>git revert</code> can be used to revert the entire repository to a previous state, or undo changes in range of commits, creating a <em>new</em> commit.</li>\n",
    "<li><code>git reset</code> changes the current HEAD to an earlier commit</li>\n",
    "</ul>\n",
    "</div>"
   ]
  },
  {
   "cell_type": "markdown",
   "metadata": {
    "slideshow": {
     "slide_type": "slide"
    }
   },
   "source": [
    "<div class=\"w3-bar w3-blue-grey\">\n",
    "<a href=\"./05_episode.ipynb\" class=\"w3-left-align w3-bar-item w3-button w3-mobile\" style=\"width:33%\"><h2><i class=\"fa fa-angle-double-left\"></i> Previous</h2></a>\n",
    "<a href=\"./00_schedule.ipynb\" class=\"w3-bar-item w3-button w3-center w3-mobile\" style=\"width:33%\"><h2>Schedule</h2></a>\n",
    "<a href=\"./07_episode.ipynb\" class=\"w3-right-align w3-bar-item w3-button w3-right w3-mobile\" style=\"width:33%\"><h2>Next <i class=\"fa fa-angle-double-right\"></i></h2></a>\n",
    "</div>"
   ]
  }
 ],
 "metadata": {
  "celltoolbar": "None",
  "kernelspec": {
   "display_name": "Python 3",
   "language": "python",
   "name": "python3"
  },
  "language_info": {
   "codemirror_mode": {
    "name": "ipython",
    "version": 3
   },
   "file_extension": ".py",
   "mimetype": "text/x-python",
   "name": "python",
   "nbconvert_exporter": "python",
   "pygments_lexer": "ipython3",
   "version": "3.8.3"
  },
  "livereveal": {
   "scroll": true
  }
 },
 "nbformat": 4,
 "nbformat_minor": 2
}
